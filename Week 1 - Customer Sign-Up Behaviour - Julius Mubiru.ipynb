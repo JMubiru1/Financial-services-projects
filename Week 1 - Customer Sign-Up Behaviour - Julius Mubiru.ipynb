{
 "cells": [
  {
   "cell_type": "code",
   "execution_count": 645,
   "id": "7f4a3757-269a-4f5c-b365-70aec3fa5d03",
   "metadata": {},
   "outputs": [],
   "source": [
    "import pandas as pd"
   ]
  },
  {
   "cell_type": "code",
   "execution_count": 647,
   "id": "e2027d2c-bf72-44e3-a332-e814cd63b486",
   "metadata": {},
   "outputs": [],
   "source": [
    "df = pd.read_csv(r\"C:\\Users\\Julius\\Desktop\\Training and Interns\\Uptrail intern\\Week 1 project\\customer_signups.csv\")"
   ]
  },
  {
   "cell_type": "code",
   "execution_count": 649,
   "id": "6d4a4fad-1ff6-4937-9e1a-ddf943053e2c",
   "metadata": {},
   "outputs": [
    {
     "name": "stdout",
     "output_type": "stream",
     "text": [
      "Number of rows:  300\n",
      "Number of columns:  10\n"
     ]
    }
   ],
   "source": [
    "# Exploring the shape of the data before cleansing\n",
    "row_count = df.shape[0]\n",
    "column_count = df.shape[1]\n",
    "print ('Number of rows: ', row_count)\n",
    "print ('Number of columns: ',column_count)"
   ]
  },
  {
   "cell_type": "code",
   "execution_count": 651,
   "id": "559b6d7b-c720-4b2c-af17-7059ea86a9c5",
   "metadata": {},
   "outputs": [
    {
     "data": {
      "text/plain": [
       "customer_id         object\n",
       "name                object\n",
       "email               object\n",
       "signup_date         object\n",
       "source              object\n",
       "region              object\n",
       "plan_selected       object\n",
       "marketing_opt_in    object\n",
       "age                 object\n",
       "gender              object\n",
       "dtype: object"
      ]
     },
     "execution_count": 651,
     "metadata": {},
     "output_type": "execute_result"
    }
   ],
   "source": [
    "# Checking the data types before cleansing\n",
    "df.dtypes        # at this point all columns are being read as 'object' probably because the data needs cleaning to make it uniform down a column."
   ]
  },
  {
   "cell_type": "raw",
   "id": "a9936ebb-e9ed-466f-9ad0-b7b7d05450dd",
   "metadata": {},
   "source": [
    "# DATA CLEANSING"
   ]
  },
  {
   "cell_type": "raw",
   "id": "24e8e05c-a8a6-46cf-a347-aefe7df3bb99",
   "metadata": {},
   "source": [
    "# 1. Addressing any missing values; "
   ]
  },
  {
   "cell_type": "code",
   "execution_count": 653,
   "id": "e1e5bf34-c3d6-4247-a229-851de8c10bb3",
   "metadata": {},
   "outputs": [
    {
     "data": {
      "text/plain": [
       "customer_id          2\n",
       "name                 9\n",
       "email               34\n",
       "signup_date          2\n",
       "source               9\n",
       "region              30\n",
       "plan_selected        8\n",
       "marketing_opt_in    10\n",
       "age                 12\n",
       "gender               8\n",
       "dtype: int64"
      ]
     },
     "execution_count": 653,
     "metadata": {},
     "output_type": "execute_result"
    }
   ],
   "source": [
    "df.isnull().sum()      "
   ]
  },
  {
   "cell_type": "raw",
   "id": "3e16aa9d-432b-4968-998e-d17ee5756fd7",
   "metadata": {},
   "source": [
    "# From the output we can see the different counts of missing data per column. \n",
    "# I will set my level of acceptance for missing data at 15%. Given that there are 300 rows, il give a tolerance of 45 missing values ie if a column is missing more than 45 values i will drop that variable. \n",
    "# From the output above , no variable is violating this rule so i will keep them and address them appropriately one by one "
   ]
  },
  {
   "cell_type": "code",
   "execution_count": 655,
   "id": "f3b4da5b-ec98-43d8-b626-5f331cae2b9b",
   "metadata": {},
   "outputs": [
    {
     "name": "stdout",
     "output_type": "stream",
     "text": [
      "Missing values by region:\n",
      "         customer_id  name  email  signup_date  source  region  plan_selected  \\\n",
      "region                                                                          \n",
      "Central            0     0      5            0       0       0              0   \n",
      "East               0     2      7            0       0       0              2   \n",
      "North              0     3     10            0       4       0              3   \n",
      "South              1     1      4            0       2       0              0   \n",
      "West               1     3      4            1       1       0              2   \n",
      "\n",
      "         marketing_opt_in  age  gender  \n",
      "region                                  \n",
      "Central                 2    2       1  \n",
      "East                    3    2       3  \n",
      "North                   2    3       0  \n",
      "South                   2    2       1  \n",
      "West                    1    2       3  \n"
     ]
    },
    {
     "name": "stderr",
     "output_type": "stream",
     "text": [
      "C:\\Users\\Julius\\AppData\\Local\\Temp\\ipykernel_4100\\1884140619.py:2: DeprecationWarning: DataFrameGroupBy.apply operated on the grouping columns. This behavior is deprecated, and in a future version of pandas the grouping columns will be excluded from the operation. Either pass `include_groups=False` to exclude the groupings or explicitly select the grouping columns after groupby to silence this warning.\n",
      "  missing_counts = df.groupby('region').apply(lambda group: group.isna().sum())\n"
     ]
    }
   ],
   "source": [
    "# Count missing values for each column, grouped by region\n",
    "missing_counts = df.groupby('region').apply(lambda group: group.isna().sum())\n",
    "\n",
    "print(\"Missing values by region:\")\n",
    "print(missing_counts)"
   ]
  },
  {
   "cell_type": "code",
   "execution_count": 659,
   "id": "aaeeca45-9d22-4842-aca2-0179a2037d52",
   "metadata": {},
   "outputs": [
    {
     "name": "stdout",
     "output_type": "stream",
     "text": [
      "region\n",
      "Central    10\n",
      "East       19\n",
      "North      25\n",
      "South      13\n",
      "West       18\n",
      "dtype: int64\n"
     ]
    },
    {
     "name": "stderr",
     "output_type": "stream",
     "text": [
      "C:\\Users\\Julius\\AppData\\Local\\Temp\\ipykernel_4100\\3874258816.py:2: DeprecationWarning: DataFrameGroupBy.apply operated on the grouping columns. This behavior is deprecated, and in a future version of pandas the grouping columns will be excluded from the operation. Either pass `include_groups=False` to exclude the groupings or explicitly select the grouping columns after groupby to silence this warning.\n",
      "  total_missing_by_region = df.groupby('region').apply(lambda group: group.isna().sum().sum())\n"
     ]
    }
   ],
   "source": [
    "# Total missing values across all columns per region\n",
    "total_missing_by_region = df.groupby('region').apply(lambda group: group.isna().sum().sum())\n",
    "\n",
    "\n",
    "print(total_missing_by_region)"
   ]
  },
  {
   "cell_type": "code",
   "execution_count": 663,
   "id": "35597bba-bdc8-4f94-9bb5-3b3bf4af9616",
   "metadata": {},
   "outputs": [
    {
     "data": {
      "text/html": [
       "<div>\n",
       "<style scoped>\n",
       "    .dataframe tbody tr th:only-of-type {\n",
       "        vertical-align: middle;\n",
       "    }\n",
       "\n",
       "    .dataframe tbody tr th {\n",
       "        vertical-align: top;\n",
       "    }\n",
       "\n",
       "    .dataframe thead th {\n",
       "        text-align: right;\n",
       "    }\n",
       "</style>\n",
       "<table border=\"1\" class=\"dataframe\">\n",
       "  <thead>\n",
       "    <tr style=\"text-align: right;\">\n",
       "      <th></th>\n",
       "      <th>customer_id</th>\n",
       "      <th>name</th>\n",
       "      <th>email</th>\n",
       "      <th>signup_date</th>\n",
       "      <th>source</th>\n",
       "      <th>region</th>\n",
       "      <th>plan_selected</th>\n",
       "      <th>marketing_opt_in</th>\n",
       "      <th>age</th>\n",
       "      <th>gender</th>\n",
       "    </tr>\n",
       "  </thead>\n",
       "  <tbody>\n",
       "    <tr>\n",
       "      <th>161</th>\n",
       "      <td>NaN</td>\n",
       "      <td>Robert Carter</td>\n",
       "      <td>robert61@example.com</td>\n",
       "      <td>10-06-24</td>\n",
       "      <td>LinkedIn</td>\n",
       "      <td>South</td>\n",
       "      <td>Pro</td>\n",
       "      <td>Yes</td>\n",
       "      <td>34</td>\n",
       "      <td>Male</td>\n",
       "    </tr>\n",
       "    <tr>\n",
       "      <th>287</th>\n",
       "      <td>NaN</td>\n",
       "      <td>Antonio Hammond</td>\n",
       "      <td>antonio87@inboxmail.net</td>\n",
       "      <td>14-10-24</td>\n",
       "      <td>Instagram</td>\n",
       "      <td>West</td>\n",
       "      <td>prem</td>\n",
       "      <td>Yes</td>\n",
       "      <td>25</td>\n",
       "      <td>FEMALE</td>\n",
       "    </tr>\n",
       "  </tbody>\n",
       "</table>\n",
       "</div>"
      ],
      "text/plain": [
       "    customer_id             name                    email signup_date  \\\n",
       "161         NaN    Robert Carter     robert61@example.com    10-06-24   \n",
       "287         NaN  Antonio Hammond  antonio87@inboxmail.net    14-10-24   \n",
       "\n",
       "        source region plan_selected marketing_opt_in age  gender  \n",
       "161   LinkedIn  South           Pro              Yes  34    Male  \n",
       "287  Instagram   West          prem              Yes  25  FEMALE  "
      ]
     },
     "execution_count": 663,
     "metadata": {},
     "output_type": "execute_result"
    }
   ],
   "source": [
    "# a) customer_id: 2 missing values\n",
    "        # I am going to look for the missing values by matching them to which row they appear in the data frame.\n",
    "        # To ensure that they are consistent i will first sort the data frame and then look them up\n",
    "\n",
    "df_sorted = df.sort_values(by='customer_id', ascending=True)\n",
    "df_sorted[df_sorted['customer_id'].isna()]"
   ]
  },
  {
   "cell_type": "raw",
   "id": "c79f97f5-f0f5-4466-9669-7d047ff7c1b5",
   "metadata": {},
   "source": [
    "# From the output, row 161 and 287 have missing values of customer_id which would correspond to CUST00161 and CUST00287 respectively. \n",
    "# I will confirm that those figures indeed dont exist"
   ]
  },
  {
   "cell_type": "code",
   "execution_count": 665,
   "id": "8dd708a6-9022-42f5-b055-eb9435b48a46",
   "metadata": {},
   "outputs": [
    {
     "name": "stdout",
     "output_type": "stream",
     "text": [
      "Empty DataFrame\n",
      "Columns: [customer_id, name, email, signup_date, source, region, plan_selected, marketing_opt_in, age, gender]\n",
      "Index: []\n"
     ]
    }
   ],
   "source": [
    "needed_ids = ['CUST00161', 'CUST00287']\n",
    "existing_rows = df[df['customer_id'].isin(needed_ids)]\n",
    "print(existing_rows)\n",
    "\n",
    "    # The output shows that there are no such customer Ids therefore il will update the records and assign CUST00161 and CUST00287 to Robert Carter and Antonio Hammond respectively\n",
    "    # To ensure i dont miss any other person with similar Robert Carter or Antonio Hammond, Il only update if customer_id is missing"
   ]
  },
  {
   "cell_type": "code",
   "execution_count": 667,
   "id": "d9e7a33d-240c-4768-b057-bc93da6d4411",
   "metadata": {},
   "outputs": [],
   "source": [
    "df.loc[\n",
    "    (df['name'] == 'Robert Carter') & (df['customer_id'].isna()),\n",
    "    'customer_id'\n",
    "] = 'CUST00161'\n",
    "\n",
    "df.loc[\n",
    "    (df['name'] == 'Antonio Hammond') & (df['customer_id'].isna()),\n",
    "    'customer_id'\n",
    "] = 'CUST00287'"
   ]
  },
  {
   "cell_type": "raw",
   "id": "95fd6262-4ec1-4f04-b579-19e78fadd7af",
   "metadata": {},
   "source": []
  },
  {
   "cell_type": "code",
   "execution_count": 669,
   "id": "639445c0-3048-4100-b6ce-c163be5c7bb8",
   "metadata": {},
   "outputs": [
    {
     "data": {
      "text/html": [
       "<div>\n",
       "<style scoped>\n",
       "    .dataframe tbody tr th:only-of-type {\n",
       "        vertical-align: middle;\n",
       "    }\n",
       "\n",
       "    .dataframe tbody tr th {\n",
       "        vertical-align: top;\n",
       "    }\n",
       "\n",
       "    .dataframe thead th {\n",
       "        text-align: right;\n",
       "    }\n",
       "</style>\n",
       "<table border=\"1\" class=\"dataframe\">\n",
       "  <thead>\n",
       "    <tr style=\"text-align: right;\">\n",
       "      <th></th>\n",
       "      <th>customer_id</th>\n",
       "      <th>name</th>\n",
       "      <th>email</th>\n",
       "      <th>signup_date</th>\n",
       "      <th>source</th>\n",
       "      <th>region</th>\n",
       "      <th>plan_selected</th>\n",
       "      <th>marketing_opt_in</th>\n",
       "      <th>age</th>\n",
       "      <th>gender</th>\n",
       "    </tr>\n",
       "  </thead>\n",
       "  <tbody>\n",
       "    <tr>\n",
       "      <th>0</th>\n",
       "      <td>CUST00000</td>\n",
       "      <td>Joshua Bryant</td>\n",
       "      <td>NaN</td>\n",
       "      <td>NaN</td>\n",
       "      <td>Instagram</td>\n",
       "      <td>NaN</td>\n",
       "      <td>basic</td>\n",
       "      <td>No</td>\n",
       "      <td>34</td>\n",
       "      <td>Female</td>\n",
       "    </tr>\n",
       "    <tr>\n",
       "      <th>9</th>\n",
       "      <td>CUST00009</td>\n",
       "      <td>Cindy Anderson</td>\n",
       "      <td>NaN</td>\n",
       "      <td>10-01-24</td>\n",
       "      <td>Google</td>\n",
       "      <td>East</td>\n",
       "      <td>PREMIUM</td>\n",
       "      <td>No</td>\n",
       "      <td>29</td>\n",
       "      <td>FEMALE</td>\n",
       "    </tr>\n",
       "    <tr>\n",
       "      <th>18</th>\n",
       "      <td>CUST00018</td>\n",
       "      <td>Tara Harmon</td>\n",
       "      <td>NaN</td>\n",
       "      <td>19-01-24</td>\n",
       "      <td>LinkedIn</td>\n",
       "      <td>Central</td>\n",
       "      <td>Basic</td>\n",
       "      <td>Yes</td>\n",
       "      <td>34</td>\n",
       "      <td>FEMALE</td>\n",
       "    </tr>\n",
       "    <tr>\n",
       "      <th>27</th>\n",
       "      <td>CUST00027</td>\n",
       "      <td>Adam Hampton</td>\n",
       "      <td>NaN</td>\n",
       "      <td>28-01-24</td>\n",
       "      <td>Instagram</td>\n",
       "      <td>North</td>\n",
       "      <td>PREMIUM</td>\n",
       "      <td>No</td>\n",
       "      <td>25</td>\n",
       "      <td>FEMALE</td>\n",
       "    </tr>\n",
       "    <tr>\n",
       "      <th>36</th>\n",
       "      <td>CUST00036</td>\n",
       "      <td>NaN</td>\n",
       "      <td>NaN</td>\n",
       "      <td>06-02-24</td>\n",
       "      <td>Google</td>\n",
       "      <td>North</td>\n",
       "      <td>PREMIUM</td>\n",
       "      <td>Yes</td>\n",
       "      <td>29</td>\n",
       "      <td>Non-Binary</td>\n",
       "    </tr>\n",
       "    <tr>\n",
       "      <th>45</th>\n",
       "      <td>CUST00045</td>\n",
       "      <td>Tyler Ortiz</td>\n",
       "      <td>NaN</td>\n",
       "      <td>15-02-24</td>\n",
       "      <td>LinkedIn</td>\n",
       "      <td>West</td>\n",
       "      <td>PRO</td>\n",
       "      <td>No</td>\n",
       "      <td>25</td>\n",
       "      <td>Male</td>\n",
       "    </tr>\n",
       "    <tr>\n",
       "      <th>54</th>\n",
       "      <td>CUST00054</td>\n",
       "      <td>Tanner Davis</td>\n",
       "      <td>NaN</td>\n",
       "      <td>24-02-24</td>\n",
       "      <td>Referral</td>\n",
       "      <td>East</td>\n",
       "      <td>PREMIUM</td>\n",
       "      <td>No</td>\n",
       "      <td>25</td>\n",
       "      <td>NaN</td>\n",
       "    </tr>\n",
       "    <tr>\n",
       "      <th>63</th>\n",
       "      <td>CUST00063</td>\n",
       "      <td>Tamara Cox</td>\n",
       "      <td>NaN</td>\n",
       "      <td>04-03-24</td>\n",
       "      <td>Referral</td>\n",
       "      <td>Central</td>\n",
       "      <td>Pro</td>\n",
       "      <td>No</td>\n",
       "      <td>21</td>\n",
       "      <td>male</td>\n",
       "    </tr>\n",
       "    <tr>\n",
       "      <th>72</th>\n",
       "      <td>CUST00072</td>\n",
       "      <td>Megan Drake</td>\n",
       "      <td>NaN</td>\n",
       "      <td>13-03-24</td>\n",
       "      <td>Facebook</td>\n",
       "      <td>Central</td>\n",
       "      <td>Pro</td>\n",
       "      <td>NaN</td>\n",
       "      <td>25</td>\n",
       "      <td>Non-Binary</td>\n",
       "    </tr>\n",
       "    <tr>\n",
       "      <th>81</th>\n",
       "      <td>CUST00081</td>\n",
       "      <td>Joanne Wade</td>\n",
       "      <td>NaN</td>\n",
       "      <td>22-03-24</td>\n",
       "      <td>Google</td>\n",
       "      <td>East</td>\n",
       "      <td>Premium</td>\n",
       "      <td>No</td>\n",
       "      <td>40</td>\n",
       "      <td>Other</td>\n",
       "    </tr>\n",
       "    <tr>\n",
       "      <th>90</th>\n",
       "      <td>CUST00090</td>\n",
       "      <td>Mark Hensley</td>\n",
       "      <td>NaN</td>\n",
       "      <td>31-03-24</td>\n",
       "      <td>Instagram</td>\n",
       "      <td>East</td>\n",
       "      <td>NaN</td>\n",
       "      <td>Yes</td>\n",
       "      <td>29</td>\n",
       "      <td>NaN</td>\n",
       "    </tr>\n",
       "    <tr>\n",
       "      <th>99</th>\n",
       "      <td>CUST00099</td>\n",
       "      <td>Chelsey Rodriguez</td>\n",
       "      <td>NaN</td>\n",
       "      <td>09-04-24</td>\n",
       "      <td>Referral</td>\n",
       "      <td>NaN</td>\n",
       "      <td>Pro</td>\n",
       "      <td>No</td>\n",
       "      <td>34</td>\n",
       "      <td>FEMALE</td>\n",
       "    </tr>\n",
       "    <tr>\n",
       "      <th>108</th>\n",
       "      <td>CUST00108</td>\n",
       "      <td>Allison Hoffman</td>\n",
       "      <td>NaN</td>\n",
       "      <td>18-04-24</td>\n",
       "      <td>LinkedIn</td>\n",
       "      <td>North</td>\n",
       "      <td>basic</td>\n",
       "      <td>No</td>\n",
       "      <td>NaN</td>\n",
       "      <td>male</td>\n",
       "    </tr>\n",
       "    <tr>\n",
       "      <th>117</th>\n",
       "      <td>CUST00117</td>\n",
       "      <td>Ashley Stokes</td>\n",
       "      <td>NaN</td>\n",
       "      <td>27-04-24</td>\n",
       "      <td>YouTube</td>\n",
       "      <td>East</td>\n",
       "      <td>Basic</td>\n",
       "      <td>No</td>\n",
       "      <td>29</td>\n",
       "      <td>Other</td>\n",
       "    </tr>\n",
       "    <tr>\n",
       "      <th>126</th>\n",
       "      <td>CUST00126</td>\n",
       "      <td>Ronald Robinson</td>\n",
       "      <td>NaN</td>\n",
       "      <td>06-05-24</td>\n",
       "      <td>Instagram</td>\n",
       "      <td>North</td>\n",
       "      <td>basic</td>\n",
       "      <td>No</td>\n",
       "      <td>NaN</td>\n",
       "      <td>Male</td>\n",
       "    </tr>\n",
       "    <tr>\n",
       "      <th>135</th>\n",
       "      <td>CUST00135</td>\n",
       "      <td>Sara Thompson</td>\n",
       "      <td>NaN</td>\n",
       "      <td>15-05-24</td>\n",
       "      <td>Google</td>\n",
       "      <td>North</td>\n",
       "      <td>PRO</td>\n",
       "      <td>Yes</td>\n",
       "      <td>40</td>\n",
       "      <td>male</td>\n",
       "    </tr>\n",
       "    <tr>\n",
       "      <th>144</th>\n",
       "      <td>CUST00144</td>\n",
       "      <td>Jasmine Golden</td>\n",
       "      <td>NaN</td>\n",
       "      <td>24-05-24</td>\n",
       "      <td>Google</td>\n",
       "      <td>Central</td>\n",
       "      <td>Premium</td>\n",
       "      <td>No</td>\n",
       "      <td>34</td>\n",
       "      <td>Non-Binary</td>\n",
       "    </tr>\n",
       "    <tr>\n",
       "      <th>153</th>\n",
       "      <td>CUST00153</td>\n",
       "      <td>Andrew Ford</td>\n",
       "      <td>NaN</td>\n",
       "      <td>02-06-24</td>\n",
       "      <td>Instagram</td>\n",
       "      <td>North</td>\n",
       "      <td>PREMIUM</td>\n",
       "      <td>Yes</td>\n",
       "      <td>34</td>\n",
       "      <td>Other</td>\n",
       "    </tr>\n",
       "    <tr>\n",
       "      <th>162</th>\n",
       "      <td>CUST00162</td>\n",
       "      <td>Mr. Tyler Stokes MD</td>\n",
       "      <td>NaN</td>\n",
       "      <td>11-06-24</td>\n",
       "      <td>Instagram</td>\n",
       "      <td>East</td>\n",
       "      <td>Premium</td>\n",
       "      <td>Yes</td>\n",
       "      <td>40</td>\n",
       "      <td>Other</td>\n",
       "    </tr>\n",
       "    <tr>\n",
       "      <th>171</th>\n",
       "      <td>CUST00171</td>\n",
       "      <td>Richard Miller</td>\n",
       "      <td>NaN</td>\n",
       "      <td>20-06-24</td>\n",
       "      <td>Facebook</td>\n",
       "      <td>North</td>\n",
       "      <td>Pro</td>\n",
       "      <td>Yes</td>\n",
       "      <td>29</td>\n",
       "      <td>Female</td>\n",
       "    </tr>\n",
       "    <tr>\n",
       "      <th>180</th>\n",
       "      <td>CUST00180</td>\n",
       "      <td>Daniel Hale</td>\n",
       "      <td>NaN</td>\n",
       "      <td>29-06-24</td>\n",
       "      <td>YouTube</td>\n",
       "      <td>West</td>\n",
       "      <td>PREMIUM</td>\n",
       "      <td>Yes</td>\n",
       "      <td>25</td>\n",
       "      <td>male</td>\n",
       "    </tr>\n",
       "    <tr>\n",
       "      <th>189</th>\n",
       "      <td>CUST00189</td>\n",
       "      <td>Hannah Anderson</td>\n",
       "      <td>NaN</td>\n",
       "      <td>08-07-24</td>\n",
       "      <td>LinkedIn</td>\n",
       "      <td>NaN</td>\n",
       "      <td>Premium</td>\n",
       "      <td>No</td>\n",
       "      <td>25</td>\n",
       "      <td>Male</td>\n",
       "    </tr>\n",
       "    <tr>\n",
       "      <th>198</th>\n",
       "      <td>CUST00198</td>\n",
       "      <td>Kimberly Jackson</td>\n",
       "      <td>NaN</td>\n",
       "      <td>17-07-24</td>\n",
       "      <td>Referral</td>\n",
       "      <td>North</td>\n",
       "      <td>Pro</td>\n",
       "      <td>Yes</td>\n",
       "      <td>47</td>\n",
       "      <td>Non-Binary</td>\n",
       "    </tr>\n",
       "    <tr>\n",
       "      <th>207</th>\n",
       "      <td>CUST00207</td>\n",
       "      <td>Linda Evans</td>\n",
       "      <td>NaN</td>\n",
       "      <td>26-07-24</td>\n",
       "      <td>Facebook</td>\n",
       "      <td>South</td>\n",
       "      <td>PREMIUM</td>\n",
       "      <td>No</td>\n",
       "      <td>40</td>\n",
       "      <td>Other</td>\n",
       "    </tr>\n",
       "    <tr>\n",
       "      <th>216</th>\n",
       "      <td>CUST00216</td>\n",
       "      <td>David Morales</td>\n",
       "      <td>NaN</td>\n",
       "      <td>04-08-24</td>\n",
       "      <td>Google</td>\n",
       "      <td>South</td>\n",
       "      <td>Pro</td>\n",
       "      <td>No</td>\n",
       "      <td>21</td>\n",
       "      <td>Male</td>\n",
       "    </tr>\n",
       "    <tr>\n",
       "      <th>225</th>\n",
       "      <td>CUST00225</td>\n",
       "      <td>James Small</td>\n",
       "      <td>NaN</td>\n",
       "      <td>13-08-24</td>\n",
       "      <td>LinkedIn</td>\n",
       "      <td>South</td>\n",
       "      <td>basic</td>\n",
       "      <td>No</td>\n",
       "      <td>29</td>\n",
       "      <td>Non-Binary</td>\n",
       "    </tr>\n",
       "    <tr>\n",
       "      <th>234</th>\n",
       "      <td>CUST00234</td>\n",
       "      <td>Joe Crosby</td>\n",
       "      <td>NaN</td>\n",
       "      <td>22-08-24</td>\n",
       "      <td>Instagram</td>\n",
       "      <td>North</td>\n",
       "      <td>UnknownPlan</td>\n",
       "      <td>Yes</td>\n",
       "      <td>47</td>\n",
       "      <td>male</td>\n",
       "    </tr>\n",
       "    <tr>\n",
       "      <th>243</th>\n",
       "      <td>CUST00243</td>\n",
       "      <td>NaN</td>\n",
       "      <td>NaN</td>\n",
       "      <td>31-08-24</td>\n",
       "      <td>Google</td>\n",
       "      <td>West</td>\n",
       "      <td>Pro</td>\n",
       "      <td>No</td>\n",
       "      <td>29</td>\n",
       "      <td>Other</td>\n",
       "    </tr>\n",
       "    <tr>\n",
       "      <th>252</th>\n",
       "      <td>CUST00252</td>\n",
       "      <td>Taylor Gray</td>\n",
       "      <td>NaN</td>\n",
       "      <td>09-09-24</td>\n",
       "      <td>LinkedIn</td>\n",
       "      <td>North</td>\n",
       "      <td>Pro</td>\n",
       "      <td>Nil</td>\n",
       "      <td>25</td>\n",
       "      <td>Male</td>\n",
       "    </tr>\n",
       "    <tr>\n",
       "      <th>261</th>\n",
       "      <td>CUST00261</td>\n",
       "      <td>Mrs. Felicia Powell MD</td>\n",
       "      <td>NaN</td>\n",
       "      <td>18-09-24</td>\n",
       "      <td>Referral</td>\n",
       "      <td>East</td>\n",
       "      <td>PRO</td>\n",
       "      <td>Yes</td>\n",
       "      <td>29</td>\n",
       "      <td>FEMALE</td>\n",
       "    </tr>\n",
       "    <tr>\n",
       "      <th>270</th>\n",
       "      <td>CUST00270</td>\n",
       "      <td>Brian Hernandez</td>\n",
       "      <td>NaN</td>\n",
       "      <td>27-09-24</td>\n",
       "      <td>YouTube</td>\n",
       "      <td>NaN</td>\n",
       "      <td>Premium</td>\n",
       "      <td>No</td>\n",
       "      <td>25</td>\n",
       "      <td>Other</td>\n",
       "    </tr>\n",
       "    <tr>\n",
       "      <th>279</th>\n",
       "      <td>CUST00279</td>\n",
       "      <td>Don Doyle</td>\n",
       "      <td>NaN</td>\n",
       "      <td>06-10-24</td>\n",
       "      <td>YouTube</td>\n",
       "      <td>Central</td>\n",
       "      <td>Pro</td>\n",
       "      <td>Yes</td>\n",
       "      <td>40</td>\n",
       "      <td>Other</td>\n",
       "    </tr>\n",
       "    <tr>\n",
       "      <th>288</th>\n",
       "      <td>CUST00288</td>\n",
       "      <td>Ashley Sims MD</td>\n",
       "      <td>NaN</td>\n",
       "      <td>15-10-24</td>\n",
       "      <td>YouTube</td>\n",
       "      <td>South</td>\n",
       "      <td>Basic</td>\n",
       "      <td>Yes</td>\n",
       "      <td>25</td>\n",
       "      <td>Female</td>\n",
       "    </tr>\n",
       "    <tr>\n",
       "      <th>297</th>\n",
       "      <td>CUST00297</td>\n",
       "      <td>Timothy Mclaughlin</td>\n",
       "      <td>NaN</td>\n",
       "      <td>24-10-24</td>\n",
       "      <td>Instagram</td>\n",
       "      <td>West</td>\n",
       "      <td>Basic</td>\n",
       "      <td>Yes</td>\n",
       "      <td>60</td>\n",
       "      <td>NaN</td>\n",
       "    </tr>\n",
       "  </tbody>\n",
       "</table>\n",
       "</div>"
      ],
      "text/plain": [
       "    customer_id                    name email signup_date     source   region  \\\n",
       "0     CUST00000           Joshua Bryant   NaN         NaN  Instagram      NaN   \n",
       "9     CUST00009          Cindy Anderson   NaN    10-01-24     Google     East   \n",
       "18    CUST00018             Tara Harmon   NaN    19-01-24   LinkedIn  Central   \n",
       "27    CUST00027            Adam Hampton   NaN    28-01-24  Instagram    North   \n",
       "36    CUST00036                     NaN   NaN    06-02-24     Google    North   \n",
       "45    CUST00045             Tyler Ortiz   NaN    15-02-24   LinkedIn     West   \n",
       "54    CUST00054            Tanner Davis   NaN    24-02-24   Referral     East   \n",
       "63    CUST00063              Tamara Cox   NaN    04-03-24   Referral  Central   \n",
       "72    CUST00072             Megan Drake   NaN    13-03-24   Facebook  Central   \n",
       "81    CUST00081             Joanne Wade   NaN    22-03-24     Google     East   \n",
       "90    CUST00090            Mark Hensley   NaN    31-03-24  Instagram     East   \n",
       "99    CUST00099       Chelsey Rodriguez   NaN    09-04-24   Referral      NaN   \n",
       "108   CUST00108         Allison Hoffman   NaN    18-04-24   LinkedIn    North   \n",
       "117   CUST00117           Ashley Stokes   NaN    27-04-24    YouTube     East   \n",
       "126   CUST00126         Ronald Robinson   NaN    06-05-24  Instagram    North   \n",
       "135   CUST00135           Sara Thompson   NaN    15-05-24     Google    North   \n",
       "144   CUST00144          Jasmine Golden   NaN    24-05-24     Google  Central   \n",
       "153   CUST00153             Andrew Ford   NaN    02-06-24  Instagram    North   \n",
       "162   CUST00162     Mr. Tyler Stokes MD   NaN    11-06-24  Instagram     East   \n",
       "171   CUST00171          Richard Miller   NaN    20-06-24   Facebook    North   \n",
       "180   CUST00180             Daniel Hale   NaN    29-06-24    YouTube     West   \n",
       "189   CUST00189         Hannah Anderson   NaN    08-07-24   LinkedIn      NaN   \n",
       "198   CUST00198        Kimberly Jackson   NaN    17-07-24   Referral    North   \n",
       "207   CUST00207             Linda Evans   NaN    26-07-24   Facebook    South   \n",
       "216   CUST00216           David Morales   NaN    04-08-24     Google    South   \n",
       "225   CUST00225             James Small   NaN    13-08-24   LinkedIn    South   \n",
       "234   CUST00234              Joe Crosby   NaN    22-08-24  Instagram    North   \n",
       "243   CUST00243                     NaN   NaN    31-08-24     Google     West   \n",
       "252   CUST00252             Taylor Gray   NaN    09-09-24   LinkedIn    North   \n",
       "261   CUST00261  Mrs. Felicia Powell MD   NaN    18-09-24   Referral     East   \n",
       "270   CUST00270         Brian Hernandez   NaN    27-09-24    YouTube      NaN   \n",
       "279   CUST00279               Don Doyle   NaN    06-10-24    YouTube  Central   \n",
       "288   CUST00288          Ashley Sims MD   NaN    15-10-24    YouTube    South   \n",
       "297   CUST00297      Timothy Mclaughlin   NaN    24-10-24  Instagram     West   \n",
       "\n",
       "    plan_selected marketing_opt_in  age      gender  \n",
       "0           basic               No   34      Female  \n",
       "9         PREMIUM               No   29      FEMALE  \n",
       "18          Basic              Yes   34      FEMALE  \n",
       "27        PREMIUM               No   25      FEMALE  \n",
       "36        PREMIUM              Yes   29  Non-Binary  \n",
       "45            PRO               No   25        Male  \n",
       "54        PREMIUM               No   25         NaN  \n",
       "63            Pro               No   21        male  \n",
       "72            Pro              NaN   25  Non-Binary  \n",
       "81        Premium               No   40       Other  \n",
       "90            NaN              Yes   29         NaN  \n",
       "99            Pro               No   34      FEMALE  \n",
       "108         basic               No  NaN        male  \n",
       "117         Basic               No   29       Other  \n",
       "126         basic               No  NaN        Male  \n",
       "135           PRO              Yes   40        male  \n",
       "144       Premium               No   34  Non-Binary  \n",
       "153       PREMIUM              Yes   34       Other  \n",
       "162       Premium              Yes   40       Other  \n",
       "171           Pro              Yes   29      Female  \n",
       "180       PREMIUM              Yes   25        male  \n",
       "189       Premium               No   25        Male  \n",
       "198           Pro              Yes   47  Non-Binary  \n",
       "207       PREMIUM               No   40       Other  \n",
       "216           Pro               No   21        Male  \n",
       "225         basic               No   29  Non-Binary  \n",
       "234   UnknownPlan              Yes   47        male  \n",
       "243           Pro               No   29       Other  \n",
       "252           Pro              Nil   25        Male  \n",
       "261           PRO              Yes   29      FEMALE  \n",
       "270       Premium               No   25       Other  \n",
       "279           Pro              Yes   40       Other  \n",
       "288         Basic              Yes   25      Female  \n",
       "297         Basic              Yes   60         NaN  "
      ]
     },
     "execution_count": 669,
     "metadata": {},
     "output_type": "execute_result"
    }
   ],
   "source": [
    "# b) name: 9 missing values\n",
    "# c) email: 34 missing values\n",
    "\n",
    "df[df['name'].isna()]  \n",
    "df[df['email'].isna()] \n",
    "\n",
    "    # It is impractical to assign names or emails from just the available data \n",
    "    # Even if we assumed from emails, some people dont use their names in emails and vise versa\n",
    "    # For that reason, I will first leave name and email as it is and see wether I will need them for this analysis\n",
    "    # I dont believe I need to drop them as they have other important data points for this analysis\n",
    "    # The most feasible way to get some of this data would be to contact the persons directly "
   ]
  },
  {
   "cell_type": "raw",
   "id": "1dc69046-7b75-4270-be3d-12a14dca9f10",
   "metadata": {},
   "source": []
  },
  {
   "cell_type": "raw",
   "id": "24603efe-c0ad-4186-ac76-42a6c7932ffb",
   "metadata": {},
   "source": []
  },
  {
   "cell_type": "code",
   "execution_count": 671,
   "id": "bd4caecb-0ddd-48b6-b8c2-92db5c16270d",
   "metadata": {},
   "outputs": [
    {
     "data": {
      "text/html": [
       "<div>\n",
       "<style scoped>\n",
       "    .dataframe tbody tr th:only-of-type {\n",
       "        vertical-align: middle;\n",
       "    }\n",
       "\n",
       "    .dataframe tbody tr th {\n",
       "        vertical-align: top;\n",
       "    }\n",
       "\n",
       "    .dataframe thead th {\n",
       "        text-align: right;\n",
       "    }\n",
       "</style>\n",
       "<table border=\"1\" class=\"dataframe\">\n",
       "  <thead>\n",
       "    <tr style=\"text-align: right;\">\n",
       "      <th></th>\n",
       "      <th>customer_id</th>\n",
       "      <th>name</th>\n",
       "      <th>email</th>\n",
       "      <th>signup_date</th>\n",
       "      <th>source</th>\n",
       "      <th>region</th>\n",
       "      <th>plan_selected</th>\n",
       "      <th>marketing_opt_in</th>\n",
       "      <th>age</th>\n",
       "      <th>gender</th>\n",
       "    </tr>\n",
       "  </thead>\n",
       "  <tbody>\n",
       "    <tr>\n",
       "      <th>0</th>\n",
       "      <td>CUST00000</td>\n",
       "      <td>Joshua Bryant</td>\n",
       "      <td>NaN</td>\n",
       "      <td>NaN</td>\n",
       "      <td>Instagram</td>\n",
       "      <td>NaN</td>\n",
       "      <td>basic</td>\n",
       "      <td>No</td>\n",
       "      <td>34</td>\n",
       "      <td>Female</td>\n",
       "    </tr>\n",
       "    <tr>\n",
       "      <th>80</th>\n",
       "      <td>CUST00080</td>\n",
       "      <td>Charles Wright</td>\n",
       "      <td>charles80@inboxmail.net</td>\n",
       "      <td>NaN</td>\n",
       "      <td>YouTube</td>\n",
       "      <td>West</td>\n",
       "      <td>PREMIUM</td>\n",
       "      <td>Yes</td>\n",
       "      <td>21</td>\n",
       "      <td>Female</td>\n",
       "    </tr>\n",
       "  </tbody>\n",
       "</table>\n",
       "</div>"
      ],
      "text/plain": [
       "   customer_id            name                    email signup_date  \\\n",
       "0    CUST00000   Joshua Bryant                      NaN         NaN   \n",
       "80   CUST00080  Charles Wright  charles80@inboxmail.net         NaN   \n",
       "\n",
       "       source region plan_selected marketing_opt_in age  gender  \n",
       "0   Instagram    NaN         basic               No  34  Female  \n",
       "80    YouTube   West       PREMIUM              Yes  21  Female  "
      ]
     },
     "execution_count": 671,
     "metadata": {},
     "output_type": "execute_result"
    }
   ],
   "source": [
    "# d) signup_date : 2 missing values\n",
    "df[df['signup_date'].isna()] "
   ]
  },
  {
   "cell_type": "raw",
   "id": "c8e9c074-49ea-4208-80b9-5808cce6454c",
   "metadata": {},
   "source": [
    "# I will use the backward fill method to assign values to missing values on signup_date\n",
    "# To properly address this variable, I need to first convert signup_date to datetime format\n",
    "# Then Il will use a data frame that is sorted in ascending order to execute this prompt. This is to ensure that assigned date closely corresponds to order in which sign ups were made assuming that customer_ids are assigned once someone signs up."
   ]
  },
  {
   "cell_type": "code",
   "execution_count": 673,
   "id": "8cf1cf84-522f-4406-9e97-107fc5b47f9e",
   "metadata": {},
   "outputs": [],
   "source": [
    "# Sort data frame\n",
    "\n",
    "df = df.sort_values(by='customer_id', ascending=True)"
   ]
  },
  {
   "cell_type": "code",
   "execution_count": 675,
   "id": "2928be1d-4301-4afa-887a-2fa82fbca092",
   "metadata": {},
   "outputs": [
    {
     "data": {
      "text/plain": [
       "signup_date\n",
       "not a date    4\n",
       "02-01-24      1\n",
       "17-07-24      1\n",
       "23-07-24      1\n",
       "22-07-24      1\n",
       "             ..\n",
       "09-04-24      1\n",
       "08-04-24      1\n",
       "07-04-24      1\n",
       "06-04-24      1\n",
       "26-10-24      1\n",
       "Name: count, Length: 295, dtype: int64"
      ]
     },
     "execution_count": 675,
     "metadata": {},
     "output_type": "execute_result"
    }
   ],
   "source": [
    "# check to see if there are any invalid entries\n",
    "df['signup_date'].value_counts()"
   ]
  },
  {
   "cell_type": "code",
   "execution_count": 677,
   "id": "0e446ca9-726f-49fc-8772-fc767c5bad7e",
   "metadata": {},
   "outputs": [
    {
     "name": "stderr",
     "output_type": "stream",
     "text": [
      "C:\\Users\\Julius\\AppData\\Local\\Temp\\ipykernel_4100\\3293741544.py:3: UserWarning: Could not infer format, so each element will be parsed individually, falling back to `dateutil`. To ensure parsing is consistent and as-expected, please specify a format.\n",
      "  df['signup_date'] = pd.to_datetime(df['signup_date'], errors='coerce')\n"
     ]
    }
   ],
   "source": [
    "# Convert signup_date to datetime format, using coerce to convert all invalid entries to missing values\n",
    "\n",
    "df['signup_date'] = pd.to_datetime(df['signup_date'], errors='coerce') "
   ]
  },
  {
   "cell_type": "code",
   "execution_count": 679,
   "id": "2d83a1a4-fd9c-4022-a8af-e6a8cbae490c",
   "metadata": {},
   "outputs": [
    {
     "data": {
      "text/html": [
       "<div>\n",
       "<style scoped>\n",
       "    .dataframe tbody tr th:only-of-type {\n",
       "        vertical-align: middle;\n",
       "    }\n",
       "\n",
       "    .dataframe tbody tr th {\n",
       "        vertical-align: top;\n",
       "    }\n",
       "\n",
       "    .dataframe thead th {\n",
       "        text-align: right;\n",
       "    }\n",
       "</style>\n",
       "<table border=\"1\" class=\"dataframe\">\n",
       "  <thead>\n",
       "    <tr style=\"text-align: right;\">\n",
       "      <th></th>\n",
       "      <th>customer_id</th>\n",
       "      <th>name</th>\n",
       "      <th>email</th>\n",
       "      <th>signup_date</th>\n",
       "      <th>source</th>\n",
       "      <th>region</th>\n",
       "      <th>plan_selected</th>\n",
       "      <th>marketing_opt_in</th>\n",
       "      <th>age</th>\n",
       "      <th>gender</th>\n",
       "    </tr>\n",
       "  </thead>\n",
       "  <tbody>\n",
       "    <tr>\n",
       "      <th>0</th>\n",
       "      <td>CUST00000</td>\n",
       "      <td>Joshua Bryant</td>\n",
       "      <td>NaN</td>\n",
       "      <td>NaT</td>\n",
       "      <td>Instagram</td>\n",
       "      <td>NaN</td>\n",
       "      <td>basic</td>\n",
       "      <td>No</td>\n",
       "      <td>34</td>\n",
       "      <td>Female</td>\n",
       "    </tr>\n",
       "    <tr>\n",
       "      <th>80</th>\n",
       "      <td>CUST00080</td>\n",
       "      <td>Charles Wright</td>\n",
       "      <td>charles80@inboxmail.net</td>\n",
       "      <td>NaT</td>\n",
       "      <td>YouTube</td>\n",
       "      <td>West</td>\n",
       "      <td>PREMIUM</td>\n",
       "      <td>Yes</td>\n",
       "      <td>21</td>\n",
       "      <td>Female</td>\n",
       "    </tr>\n",
       "    <tr>\n",
       "      <th>120</th>\n",
       "      <td>CUST00120</td>\n",
       "      <td>Rachel Gray</td>\n",
       "      <td>rachel20@mailhub.org</td>\n",
       "      <td>NaT</td>\n",
       "      <td>Referral</td>\n",
       "      <td>Central</td>\n",
       "      <td>basic</td>\n",
       "      <td>Yes</td>\n",
       "      <td>47</td>\n",
       "      <td>Non-Binary</td>\n",
       "    </tr>\n",
       "    <tr>\n",
       "      <th>159</th>\n",
       "      <td>CUST00159</td>\n",
       "      <td>Jeremy Taylor</td>\n",
       "      <td>jeremy59@example.com</td>\n",
       "      <td>NaT</td>\n",
       "      <td>Facebook</td>\n",
       "      <td>South</td>\n",
       "      <td>Basic</td>\n",
       "      <td>Yes</td>\n",
       "      <td>21</td>\n",
       "      <td>Female</td>\n",
       "    </tr>\n",
       "    <tr>\n",
       "      <th>197</th>\n",
       "      <td>CUST00197</td>\n",
       "      <td>NaN</td>\n",
       "      <td>jessica97@mailhub.org</td>\n",
       "      <td>NaT</td>\n",
       "      <td>YouTube</td>\n",
       "      <td>North</td>\n",
       "      <td>Premium</td>\n",
       "      <td>Yes</td>\n",
       "      <td>34</td>\n",
       "      <td>male</td>\n",
       "    </tr>\n",
       "    <tr>\n",
       "      <th>217</th>\n",
       "      <td>CUST00217</td>\n",
       "      <td>Dylan Wallace</td>\n",
       "      <td>dylan17@example.com</td>\n",
       "      <td>NaT</td>\n",
       "      <td>LinkedIn</td>\n",
       "      <td>South</td>\n",
       "      <td>Basic</td>\n",
       "      <td>Yes</td>\n",
       "      <td>40</td>\n",
       "      <td>Female</td>\n",
       "    </tr>\n",
       "  </tbody>\n",
       "</table>\n",
       "</div>"
      ],
      "text/plain": [
       "    customer_id            name                    email signup_date  \\\n",
       "0     CUST00000   Joshua Bryant                      NaN         NaT   \n",
       "80    CUST00080  Charles Wright  charles80@inboxmail.net         NaT   \n",
       "120   CUST00120     Rachel Gray     rachel20@mailhub.org         NaT   \n",
       "159   CUST00159   Jeremy Taylor     jeremy59@example.com         NaT   \n",
       "197   CUST00197             NaN    jessica97@mailhub.org         NaT   \n",
       "217   CUST00217   Dylan Wallace      dylan17@example.com         NaT   \n",
       "\n",
       "        source   region plan_selected marketing_opt_in age      gender  \n",
       "0    Instagram      NaN         basic               No  34      Female  \n",
       "80     YouTube     West       PREMIUM              Yes  21      Female  \n",
       "120   Referral  Central         basic              Yes  47  Non-Binary  \n",
       "159   Facebook    South         Basic              Yes  21      Female  \n",
       "197    YouTube    North       Premium              Yes  34        male  \n",
       "217   LinkedIn    South         Basic              Yes  40      Female  "
      ]
     },
     "execution_count": 679,
     "metadata": {},
     "output_type": "execute_result"
    }
   ],
   "source": [
    "df[df['signup_date'].isna()]  # We can see that the 4 invalid entries (not a date) are now cast as missing entries.\n",
    "                                # Now total count of missing values is 6"
   ]
  },
  {
   "cell_type": "code",
   "execution_count": 681,
   "id": "02c8f511-3eac-4d88-bf01-066718cd43b2",
   "metadata": {},
   "outputs": [],
   "source": [
    "# Define target customer IDs\n",
    "target_ids = ['CUST00000', 'CUST00080', 'CUST00120', 'CUST00159', 'CUST00197', 'CUST00217']\n",
    "\n",
    "# Filter only the relevant rows\n",
    "row = df['customer_id'].isin(target_ids)\n",
    "\n",
    "# Apply backward fill only to signup_date column for those rows\n",
    "df.loc[row, 'signup_date'] = df.loc[row, 'signup_date'].bfill()"
   ]
  },
  {
   "cell_type": "code",
   "execution_count": 683,
   "id": "11fd70a8-cdf3-4f7e-8114-30f85835a9d3",
   "metadata": {},
   "outputs": [
    {
     "data": {
      "text/plain": [
       "customer_id          0\n",
       "name                 9\n",
       "email               34\n",
       "signup_date          6\n",
       "source               9\n",
       "region              30\n",
       "plan_selected        8\n",
       "marketing_opt_in    10\n",
       "age                 12\n",
       "gender               8\n",
       "dtype: int64"
      ]
     },
     "execution_count": 683,
     "metadata": {},
     "output_type": "execute_result"
    }
   ],
   "source": [
    "df.isnull().sum() # The missing values have not been updated so i will do it manualy"
   ]
  },
  {
   "cell_type": "code",
   "execution_count": 685,
   "id": "30633664-06f3-4846-82fc-40e1e045d848",
   "metadata": {},
   "outputs": [
    {
     "name": "stdout",
     "output_type": "stream",
     "text": [
      "    customer_id               name                        email signup_date  \\\n",
      "0     CUST00000      Joshua Bryant                          NaN         NaT   \n",
      "1     CUST00001     Nicole Stewart          nicole1@example.com  2024-02-01   \n",
      "80    CUST00080     Charles Wright      charles80@inboxmail.net         NaT   \n",
      "81    CUST00081        Joanne Wade                          NaN  2024-03-22   \n",
      "120   CUST00120        Rachel Gray         rachel20@mailhub.org         NaT   \n",
      "121   CUST00121     Carolyn Castro        carolyn21@mailhub.org  2024-01-05   \n",
      "159   CUST00159      Jeremy Taylor         jeremy59@example.com         NaT   \n",
      "160   CUST00160  Christopher Brown  christopher60@inboxmail.net  2024-09-06   \n",
      "197   CUST00197                NaN        jessica97@mailhub.org         NaT   \n",
      "198   CUST00198   Kimberly Jackson                          NaN  2024-07-17   \n",
      "217   CUST00217      Dylan Wallace          dylan17@example.com         NaT   \n",
      "218   CUST00218        Jared Smith          jared18@example.com  2024-06-08   \n",
      "\n",
      "        source   region plan_selected marketing_opt_in age      gender  \n",
      "0    Instagram      NaN         basic               No  34      Female  \n",
      "1     LinkedIn     West         basic              Yes  29        Male  \n",
      "80     YouTube     West       PREMIUM              Yes  21      Female  \n",
      "81      Google     East       Premium               No  40       Other  \n",
      "120   Referral  Central         basic              Yes  47  Non-Binary  \n",
      "121    YouTube      NaN         Basic              Yes  34        male  \n",
      "159   Facebook    South         Basic              Yes  21      Female  \n",
      "160    YouTube    South       Premium              Yes  40      Female  \n",
      "197    YouTube    North       Premium              Yes  34        male  \n",
      "198   Referral    North           Pro              Yes  47  Non-Binary  \n",
      "217   LinkedIn    South         Basic              Yes  40      Female  \n",
      "218     Google     West           PRO              Yes  29  Non-Binary  \n"
     ]
    }
   ],
   "source": [
    "target_ids2 = ['CUST00000', 'CUST00001','CUST00080', 'CUST00081', 'CUST00120', 'CUST00121','CUST00159', 'CUST00160', 'CUST00197', 'CUST00198', 'CUST00217', 'CUST00218']\n",
    "rows2 = df['customer_id'].isin(target_ids2)\n",
    "print(df[rows2])  # I can see that signup_dates are not neccesarily in ascenting order as customer id, probably it explains why backfilling didnt work\n",
    "                    # I will manualy fill these missing dates with the mode"
   ]
  },
  {
   "cell_type": "code",
   "execution_count": 687,
   "id": "a23ba666-d348-4ff0-96f4-344504e5571a",
   "metadata": {},
   "outputs": [
    {
     "name": "stdout",
     "output_type": "stream",
     "text": [
      "The most common signup_date is: 2024-02-02 (appears 2 times)\n"
     ]
    }
   ],
   "source": [
    "# Find the mode (most frequent date)\n",
    "mode_date = df['signup_date'].mode()[0]\n",
    "\n",
    "# Count how often it appears\n",
    "count = (df['signup_date'] == mode_date).sum()\n",
    "\n",
    "# Display the result\n",
    "print(f\"The most common signup_date is: {mode_date.date()} (appears {count} times)\")\n"
   ]
  },
  {
   "cell_type": "code",
   "execution_count": 689,
   "id": "ea2e3c59-364b-414e-b18a-3bec11c84a2a",
   "metadata": {},
   "outputs": [],
   "source": [
    "df['signup_date'] = df['signup_date'].fillna(pd.Timestamp('2024-02-02'))"
   ]
  },
  {
   "cell_type": "code",
   "execution_count": 691,
   "id": "f3baaf30-77dd-4333-b49c-0af277b530e6",
   "metadata": {},
   "outputs": [
    {
     "data": {
      "text/plain": [
       "customer_id          0\n",
       "name                 9\n",
       "email               34\n",
       "signup_date          0\n",
       "source               9\n",
       "region              30\n",
       "plan_selected        8\n",
       "marketing_opt_in    10\n",
       "age                 12\n",
       "gender               8\n",
       "dtype: int64"
      ]
     },
     "execution_count": 691,
     "metadata": {},
     "output_type": "execute_result"
    }
   ],
   "source": [
    "df.isnull().sum()"
   ]
  },
  {
   "cell_type": "raw",
   "id": "8d0b3834-4c70-4a99-be34-5c486e3fc3ab",
   "metadata": {},
   "source": []
  },
  {
   "cell_type": "code",
   "execution_count": 693,
   "id": "b5152e57-ef7c-4baa-80dc-3d7ecbffedb7",
   "metadata": {},
   "outputs": [
    {
     "data": {
      "text/html": [
       "<div>\n",
       "<style scoped>\n",
       "    .dataframe tbody tr th:only-of-type {\n",
       "        vertical-align: middle;\n",
       "    }\n",
       "\n",
       "    .dataframe tbody tr th {\n",
       "        vertical-align: top;\n",
       "    }\n",
       "\n",
       "    .dataframe thead th {\n",
       "        text-align: right;\n",
       "    }\n",
       "</style>\n",
       "<table border=\"1\" class=\"dataframe\">\n",
       "  <thead>\n",
       "    <tr style=\"text-align: right;\">\n",
       "      <th></th>\n",
       "      <th>customer_id</th>\n",
       "      <th>name</th>\n",
       "      <th>email</th>\n",
       "      <th>signup_date</th>\n",
       "      <th>source</th>\n",
       "      <th>region</th>\n",
       "      <th>plan_selected</th>\n",
       "      <th>marketing_opt_in</th>\n",
       "      <th>age</th>\n",
       "      <th>gender</th>\n",
       "    </tr>\n",
       "  </thead>\n",
       "  <tbody>\n",
       "    <tr>\n",
       "      <th>24</th>\n",
       "      <td>CUST00024</td>\n",
       "      <td>Mitchell Kerr</td>\n",
       "      <td>mitchell24@mailhub.org</td>\n",
       "      <td>2024-01-25</td>\n",
       "      <td>NaN</td>\n",
       "      <td>North</td>\n",
       "      <td>PRO</td>\n",
       "      <td>No</td>\n",
       "      <td>21</td>\n",
       "      <td>Female</td>\n",
       "    </tr>\n",
       "    <tr>\n",
       "      <th>51</th>\n",
       "      <td>CUST00051</td>\n",
       "      <td>Bradley Solomon</td>\n",
       "      <td>bradley51@example.com</td>\n",
       "      <td>2024-02-21</td>\n",
       "      <td>NaN</td>\n",
       "      <td>NaN</td>\n",
       "      <td>Premium</td>\n",
       "      <td>No</td>\n",
       "      <td>25</td>\n",
       "      <td>Male</td>\n",
       "    </tr>\n",
       "    <tr>\n",
       "      <th>91</th>\n",
       "      <td>CUST00091</td>\n",
       "      <td>Melissa White</td>\n",
       "      <td>melissa91@example.com</td>\n",
       "      <td>2024-01-04</td>\n",
       "      <td>NaN</td>\n",
       "      <td>West</td>\n",
       "      <td>Pro</td>\n",
       "      <td>Yes</td>\n",
       "      <td>40</td>\n",
       "      <td>male</td>\n",
       "    </tr>\n",
       "    <tr>\n",
       "      <th>215</th>\n",
       "      <td>CUST00215</td>\n",
       "      <td>Amanda Whitaker</td>\n",
       "      <td>amanda15@mailhub.org</td>\n",
       "      <td>2024-03-08</td>\n",
       "      <td>NaN</td>\n",
       "      <td>South</td>\n",
       "      <td>PRO</td>\n",
       "      <td>No</td>\n",
       "      <td>40</td>\n",
       "      <td>Male</td>\n",
       "    </tr>\n",
       "    <tr>\n",
       "      <th>223</th>\n",
       "      <td>CUST00223</td>\n",
       "      <td>Jeffrey Cunningham</td>\n",
       "      <td>jeffrey23@example.com</td>\n",
       "      <td>2024-11-08</td>\n",
       "      <td>NaN</td>\n",
       "      <td>NaN</td>\n",
       "      <td>Basic</td>\n",
       "      <td>Yes</td>\n",
       "      <td>25</td>\n",
       "      <td>Non-Binary</td>\n",
       "    </tr>\n",
       "    <tr>\n",
       "      <th>229</th>\n",
       "      <td>CUST00229</td>\n",
       "      <td>Kevin Colon</td>\n",
       "      <td>kevin29@example.com</td>\n",
       "      <td>2024-08-17</td>\n",
       "      <td>NaN</td>\n",
       "      <td>North</td>\n",
       "      <td>UnknownPlan</td>\n",
       "      <td>No</td>\n",
       "      <td>29</td>\n",
       "      <td>Female</td>\n",
       "    </tr>\n",
       "    <tr>\n",
       "      <th>235</th>\n",
       "      <td>CUST00235</td>\n",
       "      <td>Gloria King</td>\n",
       "      <td>gloria35@mailhub.org</td>\n",
       "      <td>2024-08-23</td>\n",
       "      <td>NaN</td>\n",
       "      <td>North</td>\n",
       "      <td>NaN</td>\n",
       "      <td>Yes</td>\n",
       "      <td>25</td>\n",
       "      <td>Non-Binary</td>\n",
       "    </tr>\n",
       "    <tr>\n",
       "      <th>284</th>\n",
       "      <td>CUST00284</td>\n",
       "      <td>Chad Nguyen</td>\n",
       "      <td>chad84@inboxmail.net</td>\n",
       "      <td>2024-11-10</td>\n",
       "      <td>NaN</td>\n",
       "      <td>South</td>\n",
       "      <td>PREMIUM</td>\n",
       "      <td>Yes</td>\n",
       "      <td>53</td>\n",
       "      <td>Other</td>\n",
       "    </tr>\n",
       "    <tr>\n",
       "      <th>299</th>\n",
       "      <td>CUST00299</td>\n",
       "      <td>Mr. Bruce Bridges</td>\n",
       "      <td>mr.99@example.com</td>\n",
       "      <td>2024-10-26</td>\n",
       "      <td>NaN</td>\n",
       "      <td>North</td>\n",
       "      <td>Premium</td>\n",
       "      <td>Yes</td>\n",
       "      <td>29</td>\n",
       "      <td>Male</td>\n",
       "    </tr>\n",
       "  </tbody>\n",
       "</table>\n",
       "</div>"
      ],
      "text/plain": [
       "    customer_id                name                   email signup_date  \\\n",
       "24    CUST00024       Mitchell Kerr  mitchell24@mailhub.org  2024-01-25   \n",
       "51    CUST00051     Bradley Solomon   bradley51@example.com  2024-02-21   \n",
       "91    CUST00091       Melissa White   melissa91@example.com  2024-01-04   \n",
       "215   CUST00215     Amanda Whitaker    amanda15@mailhub.org  2024-03-08   \n",
       "223   CUST00223  Jeffrey Cunningham   jeffrey23@example.com  2024-11-08   \n",
       "229   CUST00229         Kevin Colon     kevin29@example.com  2024-08-17   \n",
       "235   CUST00235         Gloria King    gloria35@mailhub.org  2024-08-23   \n",
       "284   CUST00284         Chad Nguyen    chad84@inboxmail.net  2024-11-10   \n",
       "299   CUST00299   Mr. Bruce Bridges       mr.99@example.com  2024-10-26   \n",
       "\n",
       "    source region plan_selected marketing_opt_in age      gender  \n",
       "24     NaN  North           PRO               No  21      Female  \n",
       "51     NaN    NaN       Premium               No  25        Male  \n",
       "91     NaN   West           Pro              Yes  40        male  \n",
       "215    NaN  South           PRO               No  40        Male  \n",
       "223    NaN    NaN         Basic              Yes  25  Non-Binary  \n",
       "229    NaN  North   UnknownPlan               No  29      Female  \n",
       "235    NaN  North           NaN              Yes  25  Non-Binary  \n",
       "284    NaN  South       PREMIUM              Yes  53       Other  \n",
       "299    NaN  North       Premium              Yes  29        Male  "
      ]
     },
     "execution_count": 693,
     "metadata": {},
     "output_type": "execute_result"
    }
   ],
   "source": [
    "# e) source: 9 missing values\n",
    "df[df['source'].isna()]  # For this case i will use the mode to fill the missing values"
   ]
  },
  {
   "cell_type": "code",
   "execution_count": 695,
   "id": "bebae957-3228-4224-83e5-465bc373b1ec",
   "metadata": {},
   "outputs": [
    {
     "data": {
      "text/plain": [
       "gender      source   \n",
       "123         Referral      4\n",
       "            Google        1\n",
       "            Instagram     1\n",
       "FEMALE      Referral     14\n",
       "            Instagram    10\n",
       "            LinkedIn     10\n",
       "            YouTube       8\n",
       "            Google        6\n",
       "            Facebook      4\n",
       "Female      Facebook     11\n",
       "            Google        9\n",
       "            YouTube       9\n",
       "            Instagram     4\n",
       "            LinkedIn      4\n",
       "            Referral      2\n",
       "Male        Instagram    12\n",
       "            LinkedIn     10\n",
       "            Google        8\n",
       "            YouTube       6\n",
       "            Referral      4\n",
       "            Facebook      1\n",
       "Non-Binary  Google        9\n",
       "            Facebook      8\n",
       "            Referral      8\n",
       "            YouTube       8\n",
       "            ??            3\n",
       "            LinkedIn      3\n",
       "            Instagram     1\n",
       "Other       Instagram    12\n",
       "            YouTube      12\n",
       "            Facebook     10\n",
       "            Google        9\n",
       "            LinkedIn      7\n",
       "            Referral      6\n",
       "            ??            2\n",
       "male        YouTube      14\n",
       "            Referral      9\n",
       "            Instagram     7\n",
       "            Google        6\n",
       "            Facebook      5\n",
       "            LinkedIn      5\n",
       "            ??            1\n",
       "Name: count, dtype: int64"
      ]
     },
     "execution_count": 695,
     "metadata": {},
     "output_type": "execute_result"
    }
   ],
   "source": [
    "df.groupby('gender')['source'].value_counts()  # since i have their names and gender, I will use mode by gender and not overall mode"
   ]
  },
  {
   "cell_type": "code",
   "execution_count": 697,
   "id": "f43fe0a3-7274-4be5-bed6-c18c2a50ee80",
   "metadata": {},
   "outputs": [],
   "source": [
    "# Gender needs to be cleaned first so it can be used for grouping"
   ]
  },
  {
   "cell_type": "code",
   "execution_count": 698,
   "id": "b61b4db9-4c69-4b08-ab51-58047df9ddc5",
   "metadata": {},
   "outputs": [
    {
     "data": {
      "text/plain": [
       "gender\n",
       "Other         59\n",
       "FEMALE        52\n",
       "male          48\n",
       "Male          44\n",
       "Non-Binary    42\n",
       "Female        41\n",
       "123            6\n",
       "Name: count, dtype: int64"
      ]
     },
     "execution_count": 698,
     "metadata": {},
     "output_type": "execute_result"
    }
   ],
   "source": [
    "df['gender'].value_counts()"
   ]
  },
  {
   "cell_type": "code",
   "execution_count": 701,
   "id": "30065110-3c73-413e-8a5b-e3eca8efcb72",
   "metadata": {},
   "outputs": [],
   "source": [
    "# Correcting the formats entered so far\n",
    "df['gender'] = df['gender'].replace({'male':'Male', 'FEMALE':'Female'})"
   ]
  },
  {
   "cell_type": "code",
   "execution_count": 703,
   "id": "65808dd6-6c85-4a3c-9f6c-8ac68e53431f",
   "metadata": {},
   "outputs": [
    {
     "name": "stdout",
     "output_type": "stream",
     "text": [
      "    customer_id                 name                  email signup_date  \\\n",
      "87    CUST00087           Tony Evans   tony87@inboxmail.net  2024-03-28   \n",
      "101   CUST00101      Angelica Arroyo  angelica1@mailhub.org  2024-11-04   \n",
      "147   CUST00147  Dr. Danielle Snyder      dr.47@mailhub.org  2024-05-27   \n",
      "164   CUST00164      Julie Schneider    julie64@mailhub.org  2024-06-13   \n",
      "204   CUST00204      Patricia Powers  patricia4@mailhub.org  2024-07-23   \n",
      "227   CUST00227        Katie Collins    katie27@example.com  2024-08-15   \n",
      "\n",
      "        source region plan_selected marketing_opt_in  age gender  \n",
      "87   Instagram   East           PRO               No   29    123  \n",
      "101     Google   East       Premium              Yes   21    123  \n",
      "147   Referral  South           Pro              Yes   53    123  \n",
      "164   Referral   West       Premium              Yes   40    123  \n",
      "204   Referral  North         basic               No  206    123  \n",
      "227   Referral  South         basic               No  NaN    123  \n",
      "    customer_id                name                    email signup_date  \\\n",
      "54    CUST00054        Tanner Davis                      NaN  2024-02-24   \n",
      "90    CUST00090        Mark Hensley                      NaN  2024-03-31   \n",
      "100   CUST00100          John Perez      john0@inboxmail.net  2024-10-04   \n",
      "129   CUST00129      Ashley Francis     ashley29@example.com  2024-09-05   \n",
      "136   CUST00136      Barbara Burton  barbara36@inboxmail.net  2024-05-16   \n",
      "214   CUST00214       Paul Friedman     paul14@inboxmail.net  2024-02-08   \n",
      "295   CUST00295          Gary Smith       gary95@example.com  2024-10-22   \n",
      "297   CUST00297  Timothy Mclaughlin                      NaN  2024-10-24   \n",
      "\n",
      "        source   region plan_selected marketing_opt_in      age gender  \n",
      "54    Referral     East       PREMIUM               No       25    NaN  \n",
      "90   Instagram     East           NaN              Yes       29    NaN  \n",
      "100   Facebook     East       PREMIUM               No       34    NaN  \n",
      "129   Referral     West           Pro               No  unknown    NaN  \n",
      "136    YouTube  Central       Premium              Yes       60    NaN  \n",
      "214     Google    South         basic               No       53    NaN  \n",
      "295     Google     West       PREMIUM              Yes       40    NaN  \n",
      "297  Instagram     West         Basic              Yes       60    NaN  \n"
     ]
    }
   ],
   "source": [
    "# Adressing entries were gender was entered as 123\n",
    "gender_123 = df[df['gender'] == '123']\n",
    "gender_missing = df[df['gender'].isna()]\n",
    "print(gender_123)\n",
    "print(gender_missing)"
   ]
  },
  {
   "cell_type": "code",
   "execution_count": 705,
   "id": "3d92d24c-f477-49f7-9a1b-039c9dfe1ffd",
   "metadata": {},
   "outputs": [],
   "source": [
    " # I will use the universal knowledge of male vs female names to assign appropriate genders to all these\n",
    "target_male = ['CUST00087', 'CUST00054', 'CUST00090', 'CUST00100', 'CUST00129', 'CUST00214', 'CUST00295', 'CUST00297']\n",
    "target_female = ['CUST00101', 'CUST00147', 'CUST00164', 'CUST00204', 'CUST00227', 'CUST00136']\n",
    "\n",
    "df.loc[df['customer_id'].isin(target_male), 'gender'] = 'Male'\n",
    "df.loc[df['customer_id'].isin(target_female), 'gender'] = 'Female'"
   ]
  },
  {
   "cell_type": "code",
   "execution_count": 707,
   "id": "81f76170-8355-4561-b239-e0fdf89ade18",
   "metadata": {},
   "outputs": [
    {
     "data": {
      "text/plain": [
       "gender\n",
       "Male          100\n",
       "Female         99\n",
       "Other          59\n",
       "Non-Binary     42\n",
       "Name: count, dtype: int64"
      ]
     },
     "execution_count": 707,
     "metadata": {},
     "output_type": "execute_result"
    }
   ],
   "source": [
    "df['gender'].value_counts()  # now gender is clean"
   ]
  },
  {
   "cell_type": "code",
   "execution_count": 709,
   "id": "dd6bd676-930e-41af-a0c6-73f88fa69818",
   "metadata": {},
   "outputs": [
    {
     "data": {
      "text/html": [
       "<div>\n",
       "<style scoped>\n",
       "    .dataframe tbody tr th:only-of-type {\n",
       "        vertical-align: middle;\n",
       "    }\n",
       "\n",
       "    .dataframe tbody tr th {\n",
       "        vertical-align: top;\n",
       "    }\n",
       "\n",
       "    .dataframe thead th {\n",
       "        text-align: right;\n",
       "    }\n",
       "</style>\n",
       "<table border=\"1\" class=\"dataframe\">\n",
       "  <thead>\n",
       "    <tr style=\"text-align: right;\">\n",
       "      <th></th>\n",
       "      <th>customer_id</th>\n",
       "      <th>name</th>\n",
       "      <th>email</th>\n",
       "      <th>signup_date</th>\n",
       "      <th>source</th>\n",
       "      <th>region</th>\n",
       "      <th>plan_selected</th>\n",
       "      <th>marketing_opt_in</th>\n",
       "      <th>age</th>\n",
       "      <th>gender</th>\n",
       "    </tr>\n",
       "  </thead>\n",
       "  <tbody>\n",
       "    <tr>\n",
       "      <th>24</th>\n",
       "      <td>CUST00024</td>\n",
       "      <td>Mitchell Kerr</td>\n",
       "      <td>mitchell24@mailhub.org</td>\n",
       "      <td>2024-01-25</td>\n",
       "      <td>NaN</td>\n",
       "      <td>North</td>\n",
       "      <td>PRO</td>\n",
       "      <td>No</td>\n",
       "      <td>21</td>\n",
       "      <td>Female</td>\n",
       "    </tr>\n",
       "    <tr>\n",
       "      <th>51</th>\n",
       "      <td>CUST00051</td>\n",
       "      <td>Bradley Solomon</td>\n",
       "      <td>bradley51@example.com</td>\n",
       "      <td>2024-02-21</td>\n",
       "      <td>NaN</td>\n",
       "      <td>NaN</td>\n",
       "      <td>Premium</td>\n",
       "      <td>No</td>\n",
       "      <td>25</td>\n",
       "      <td>Male</td>\n",
       "    </tr>\n",
       "    <tr>\n",
       "      <th>91</th>\n",
       "      <td>CUST00091</td>\n",
       "      <td>Melissa White</td>\n",
       "      <td>melissa91@example.com</td>\n",
       "      <td>2024-01-04</td>\n",
       "      <td>NaN</td>\n",
       "      <td>West</td>\n",
       "      <td>Pro</td>\n",
       "      <td>Yes</td>\n",
       "      <td>40</td>\n",
       "      <td>Male</td>\n",
       "    </tr>\n",
       "    <tr>\n",
       "      <th>215</th>\n",
       "      <td>CUST00215</td>\n",
       "      <td>Amanda Whitaker</td>\n",
       "      <td>amanda15@mailhub.org</td>\n",
       "      <td>2024-03-08</td>\n",
       "      <td>NaN</td>\n",
       "      <td>South</td>\n",
       "      <td>PRO</td>\n",
       "      <td>No</td>\n",
       "      <td>40</td>\n",
       "      <td>Male</td>\n",
       "    </tr>\n",
       "    <tr>\n",
       "      <th>223</th>\n",
       "      <td>CUST00223</td>\n",
       "      <td>Jeffrey Cunningham</td>\n",
       "      <td>jeffrey23@example.com</td>\n",
       "      <td>2024-11-08</td>\n",
       "      <td>NaN</td>\n",
       "      <td>NaN</td>\n",
       "      <td>Basic</td>\n",
       "      <td>Yes</td>\n",
       "      <td>25</td>\n",
       "      <td>Non-Binary</td>\n",
       "    </tr>\n",
       "    <tr>\n",
       "      <th>229</th>\n",
       "      <td>CUST00229</td>\n",
       "      <td>Kevin Colon</td>\n",
       "      <td>kevin29@example.com</td>\n",
       "      <td>2024-08-17</td>\n",
       "      <td>NaN</td>\n",
       "      <td>North</td>\n",
       "      <td>UnknownPlan</td>\n",
       "      <td>No</td>\n",
       "      <td>29</td>\n",
       "      <td>Female</td>\n",
       "    </tr>\n",
       "    <tr>\n",
       "      <th>235</th>\n",
       "      <td>CUST00235</td>\n",
       "      <td>Gloria King</td>\n",
       "      <td>gloria35@mailhub.org</td>\n",
       "      <td>2024-08-23</td>\n",
       "      <td>NaN</td>\n",
       "      <td>North</td>\n",
       "      <td>NaN</td>\n",
       "      <td>Yes</td>\n",
       "      <td>25</td>\n",
       "      <td>Non-Binary</td>\n",
       "    </tr>\n",
       "    <tr>\n",
       "      <th>284</th>\n",
       "      <td>CUST00284</td>\n",
       "      <td>Chad Nguyen</td>\n",
       "      <td>chad84@inboxmail.net</td>\n",
       "      <td>2024-11-10</td>\n",
       "      <td>NaN</td>\n",
       "      <td>South</td>\n",
       "      <td>PREMIUM</td>\n",
       "      <td>Yes</td>\n",
       "      <td>53</td>\n",
       "      <td>Other</td>\n",
       "    </tr>\n",
       "    <tr>\n",
       "      <th>299</th>\n",
       "      <td>CUST00299</td>\n",
       "      <td>Mr. Bruce Bridges</td>\n",
       "      <td>mr.99@example.com</td>\n",
       "      <td>2024-10-26</td>\n",
       "      <td>NaN</td>\n",
       "      <td>North</td>\n",
       "      <td>Premium</td>\n",
       "      <td>Yes</td>\n",
       "      <td>29</td>\n",
       "      <td>Male</td>\n",
       "    </tr>\n",
       "  </tbody>\n",
       "</table>\n",
       "</div>"
      ],
      "text/plain": [
       "    customer_id                name                   email signup_date  \\\n",
       "24    CUST00024       Mitchell Kerr  mitchell24@mailhub.org  2024-01-25   \n",
       "51    CUST00051     Bradley Solomon   bradley51@example.com  2024-02-21   \n",
       "91    CUST00091       Melissa White   melissa91@example.com  2024-01-04   \n",
       "215   CUST00215     Amanda Whitaker    amanda15@mailhub.org  2024-03-08   \n",
       "223   CUST00223  Jeffrey Cunningham   jeffrey23@example.com  2024-11-08   \n",
       "229   CUST00229         Kevin Colon     kevin29@example.com  2024-08-17   \n",
       "235   CUST00235         Gloria King    gloria35@mailhub.org  2024-08-23   \n",
       "284   CUST00284         Chad Nguyen    chad84@inboxmail.net  2024-11-10   \n",
       "299   CUST00299   Mr. Bruce Bridges       mr.99@example.com  2024-10-26   \n",
       "\n",
       "    source region plan_selected marketing_opt_in age      gender  \n",
       "24     NaN  North           PRO               No  21      Female  \n",
       "51     NaN    NaN       Premium               No  25        Male  \n",
       "91     NaN   West           Pro              Yes  40        Male  \n",
       "215    NaN  South           PRO               No  40        Male  \n",
       "223    NaN    NaN         Basic              Yes  25  Non-Binary  \n",
       "229    NaN  North   UnknownPlan               No  29      Female  \n",
       "235    NaN  North           NaN              Yes  25  Non-Binary  \n",
       "284    NaN  South       PREMIUM              Yes  53       Other  \n",
       "299    NaN  North       Premium              Yes  29        Male  "
      ]
     },
     "execution_count": 709,
     "metadata": {},
     "output_type": "execute_result"
    }
   ],
   "source": [
    "df[df['source'].isna()]  # now that all genders have been asigned, i will use mode of source per group (gender)"
   ]
  },
  {
   "cell_type": "code",
   "execution_count": 711,
   "id": "273111aa-343e-4538-9b9f-332b817e048c",
   "metadata": {},
   "outputs": [],
   "source": [
    "df['source'] = df['source'].fillna(\n",
    "    df.groupby('gender')['source'].transform(lambda x: x.mode().iloc[0] if not x.mode().empty else None)\n",
    ")"
   ]
  },
  {
   "cell_type": "code",
   "execution_count": 713,
   "id": "2829d401-7a6d-4a1b-b85d-6aa2b650e4a1",
   "metadata": {},
   "outputs": [
    {
     "data": {
      "text/plain": [
       "customer_id          0\n",
       "name                 9\n",
       "email               34\n",
       "signup_date          0\n",
       "source               0\n",
       "region              30\n",
       "plan_selected        8\n",
       "marketing_opt_in    10\n",
       "age                 12\n",
       "gender               0\n",
       "dtype: int64"
      ]
     },
     "execution_count": 713,
     "metadata": {},
     "output_type": "execute_result"
    }
   ],
   "source": [
    "df.isnull().sum()"
   ]
  },
  {
   "cell_type": "raw",
   "id": "4f5c6789-2b55-42d4-af03-73f7eed9c4b6",
   "metadata": {},
   "source": []
  },
  {
   "cell_type": "code",
   "execution_count": 715,
   "id": "44c4d0c7-2dad-47f8-90d6-4cf25d5e55df",
   "metadata": {},
   "outputs": [],
   "source": [
    "# g) Region: 30 missing values\n",
    "# h) Plan_selcted: 8 missing values\n",
    "# i) marketing_opt_in: 10 missing values\n",
    "\n",
    "  # For all these three variables, i will use the mode to fill the missing values as well but grouped by gender to minimise the error"
   ]
  },
  {
   "cell_type": "code",
   "execution_count": 717,
   "id": "0f37f23b-919f-4401-9486-83dfc0103eef",
   "metadata": {},
   "outputs": [
    {
     "data": {
      "text/plain": [
       "region\n",
       "North      65\n",
       "East       61\n",
       "South      59\n",
       "West       46\n",
       "Central    39\n",
       "Name: count, dtype: int64"
      ]
     },
     "execution_count": 717,
     "metadata": {},
     "output_type": "execute_result"
    }
   ],
   "source": [
    "df['region'].value_counts()"
   ]
  },
  {
   "cell_type": "code",
   "execution_count": 719,
   "id": "b7fe7f7d-72ee-4ac7-803d-f24c15164feb",
   "metadata": {},
   "outputs": [
    {
     "data": {
      "text/html": [
       "<div>\n",
       "<style scoped>\n",
       "    .dataframe tbody tr th:only-of-type {\n",
       "        vertical-align: middle;\n",
       "    }\n",
       "\n",
       "    .dataframe tbody tr th {\n",
       "        vertical-align: top;\n",
       "    }\n",
       "\n",
       "    .dataframe thead th {\n",
       "        text-align: right;\n",
       "    }\n",
       "</style>\n",
       "<table border=\"1\" class=\"dataframe\">\n",
       "  <thead>\n",
       "    <tr style=\"text-align: right;\">\n",
       "      <th></th>\n",
       "      <th>customer_id</th>\n",
       "      <th>name</th>\n",
       "      <th>email</th>\n",
       "      <th>signup_date</th>\n",
       "      <th>source</th>\n",
       "      <th>region</th>\n",
       "      <th>plan_selected</th>\n",
       "      <th>marketing_opt_in</th>\n",
       "      <th>age</th>\n",
       "      <th>gender</th>\n",
       "    </tr>\n",
       "  </thead>\n",
       "  <tbody>\n",
       "    <tr>\n",
       "      <th>0</th>\n",
       "      <td>CUST00000</td>\n",
       "      <td>Joshua Bryant</td>\n",
       "      <td>NaN</td>\n",
       "      <td>2024-02-02</td>\n",
       "      <td>Instagram</td>\n",
       "      <td>NaN</td>\n",
       "      <td>basic</td>\n",
       "      <td>No</td>\n",
       "      <td>34</td>\n",
       "      <td>Female</td>\n",
       "    </tr>\n",
       "    <tr>\n",
       "      <th>3</th>\n",
       "      <td>CUST00003</td>\n",
       "      <td>Zachary Sanchez</td>\n",
       "      <td>zachary3@mailhub.org</td>\n",
       "      <td>2024-04-01</td>\n",
       "      <td>YouTube</td>\n",
       "      <td>NaN</td>\n",
       "      <td>Pro</td>\n",
       "      <td>No</td>\n",
       "      <td>40</td>\n",
       "      <td>Male</td>\n",
       "    </tr>\n",
       "    <tr>\n",
       "      <th>37</th>\n",
       "      <td>CUST00037</td>\n",
       "      <td>Thomas Ruiz</td>\n",
       "      <td>thomas37@inboxmail.net</td>\n",
       "      <td>2024-07-02</td>\n",
       "      <td>Facebook</td>\n",
       "      <td>NaN</td>\n",
       "      <td>Premium</td>\n",
       "      <td>Yes</td>\n",
       "      <td>NaN</td>\n",
       "      <td>Female</td>\n",
       "    </tr>\n",
       "    <tr>\n",
       "      <th>41</th>\n",
       "      <td>CUST00041</td>\n",
       "      <td>Christopher Zuniga</td>\n",
       "      <td>christopher41@mailhub.org</td>\n",
       "      <td>2024-11-02</td>\n",
       "      <td>Google</td>\n",
       "      <td>NaN</td>\n",
       "      <td>PREMIUM</td>\n",
       "      <td>Yes</td>\n",
       "      <td>29</td>\n",
       "      <td>Female</td>\n",
       "    </tr>\n",
       "    <tr>\n",
       "      <th>48</th>\n",
       "      <td>CUST00048</td>\n",
       "      <td>Angel Chavez</td>\n",
       "      <td>angel48@example.com</td>\n",
       "      <td>2024-02-18</td>\n",
       "      <td>YouTube</td>\n",
       "      <td>NaN</td>\n",
       "      <td>basic</td>\n",
       "      <td>No</td>\n",
       "      <td>25</td>\n",
       "      <td>Non-Binary</td>\n",
       "    </tr>\n",
       "    <tr>\n",
       "      <th>51</th>\n",
       "      <td>CUST00051</td>\n",
       "      <td>Bradley Solomon</td>\n",
       "      <td>bradley51@example.com</td>\n",
       "      <td>2024-02-21</td>\n",
       "      <td>Instagram</td>\n",
       "      <td>NaN</td>\n",
       "      <td>Premium</td>\n",
       "      <td>No</td>\n",
       "      <td>25</td>\n",
       "      <td>Male</td>\n",
       "    </tr>\n",
       "    <tr>\n",
       "      <th>58</th>\n",
       "      <td>CUST00058</td>\n",
       "      <td>James Martin</td>\n",
       "      <td>james58@mailhub.org</td>\n",
       "      <td>2024-02-28</td>\n",
       "      <td>Referral</td>\n",
       "      <td>NaN</td>\n",
       "      <td>Premium</td>\n",
       "      <td>Yes</td>\n",
       "      <td>21</td>\n",
       "      <td>Other</td>\n",
       "    </tr>\n",
       "    <tr>\n",
       "      <th>59</th>\n",
       "      <td>CUST00059</td>\n",
       "      <td>Michael Lee</td>\n",
       "      <td>michael59@inboxmail.net</td>\n",
       "      <td>2024-02-29</td>\n",
       "      <td>YouTube</td>\n",
       "      <td>NaN</td>\n",
       "      <td>basic</td>\n",
       "      <td>Yes</td>\n",
       "      <td>25</td>\n",
       "      <td>Female</td>\n",
       "    </tr>\n",
       "    <tr>\n",
       "      <th>62</th>\n",
       "      <td>CUST00062</td>\n",
       "      <td>Michael Alvarez</td>\n",
       "      <td>michael62@example.com</td>\n",
       "      <td>2024-03-03</td>\n",
       "      <td>Google</td>\n",
       "      <td>NaN</td>\n",
       "      <td>PRO</td>\n",
       "      <td>Yes</td>\n",
       "      <td>47</td>\n",
       "      <td>Non-Binary</td>\n",
       "    </tr>\n",
       "    <tr>\n",
       "      <th>65</th>\n",
       "      <td>CUST00065</td>\n",
       "      <td>Richard Hudson</td>\n",
       "      <td>richard65@mailhub.org</td>\n",
       "      <td>2024-06-03</td>\n",
       "      <td>Referral</td>\n",
       "      <td>NaN</td>\n",
       "      <td>Premium</td>\n",
       "      <td>No</td>\n",
       "      <td>60</td>\n",
       "      <td>Female</td>\n",
       "    </tr>\n",
       "    <tr>\n",
       "      <th>77</th>\n",
       "      <td>CUST00077</td>\n",
       "      <td>Meagan Beard</td>\n",
       "      <td>meagan77@mailhub.org</td>\n",
       "      <td>2024-03-18</td>\n",
       "      <td>Facebook</td>\n",
       "      <td>NaN</td>\n",
       "      <td>Basic</td>\n",
       "      <td>No</td>\n",
       "      <td>47</td>\n",
       "      <td>Non-Binary</td>\n",
       "    </tr>\n",
       "    <tr>\n",
       "      <th>88</th>\n",
       "      <td>CUST00088</td>\n",
       "      <td>Paula Bruce</td>\n",
       "      <td>paula88@inboxmail.net</td>\n",
       "      <td>2024-03-29</td>\n",
       "      <td>Google</td>\n",
       "      <td>NaN</td>\n",
       "      <td>basic</td>\n",
       "      <td>Yes</td>\n",
       "      <td>unknown</td>\n",
       "      <td>Male</td>\n",
       "    </tr>\n",
       "    <tr>\n",
       "      <th>95</th>\n",
       "      <td>CUST00095</td>\n",
       "      <td>Jennifer Silva</td>\n",
       "      <td>jennifer95@example.com</td>\n",
       "      <td>2024-05-04</td>\n",
       "      <td>Google</td>\n",
       "      <td>NaN</td>\n",
       "      <td>basic</td>\n",
       "      <td>No</td>\n",
       "      <td>34</td>\n",
       "      <td>Other</td>\n",
       "    </tr>\n",
       "    <tr>\n",
       "      <th>99</th>\n",
       "      <td>CUST00099</td>\n",
       "      <td>Chelsey Rodriguez</td>\n",
       "      <td>NaN</td>\n",
       "      <td>2024-09-04</td>\n",
       "      <td>Referral</td>\n",
       "      <td>NaN</td>\n",
       "      <td>Pro</td>\n",
       "      <td>No</td>\n",
       "      <td>34</td>\n",
       "      <td>Female</td>\n",
       "    </tr>\n",
       "    <tr>\n",
       "      <th>121</th>\n",
       "      <td>CUST00121</td>\n",
       "      <td>Carolyn Castro</td>\n",
       "      <td>carolyn21@mailhub.org</td>\n",
       "      <td>2024-01-05</td>\n",
       "      <td>YouTube</td>\n",
       "      <td>NaN</td>\n",
       "      <td>Basic</td>\n",
       "      <td>Yes</td>\n",
       "      <td>34</td>\n",
       "      <td>Male</td>\n",
       "    </tr>\n",
       "    <tr>\n",
       "      <th>169</th>\n",
       "      <td>CUST00169</td>\n",
       "      <td>Emily Smith</td>\n",
       "      <td>emily69@inboxmail.net</td>\n",
       "      <td>2024-06-18</td>\n",
       "      <td>Google</td>\n",
       "      <td>NaN</td>\n",
       "      <td>PRO</td>\n",
       "      <td>No</td>\n",
       "      <td>34</td>\n",
       "      <td>Female</td>\n",
       "    </tr>\n",
       "    <tr>\n",
       "      <th>184</th>\n",
       "      <td>CUST00184</td>\n",
       "      <td>Richard Jones</td>\n",
       "      <td>richard84@mailhub.org</td>\n",
       "      <td>2024-03-07</td>\n",
       "      <td>Referral</td>\n",
       "      <td>NaN</td>\n",
       "      <td>PREMIUM</td>\n",
       "      <td>No</td>\n",
       "      <td>25</td>\n",
       "      <td>Male</td>\n",
       "    </tr>\n",
       "    <tr>\n",
       "      <th>189</th>\n",
       "      <td>CUST00189</td>\n",
       "      <td>Hannah Anderson</td>\n",
       "      <td>NaN</td>\n",
       "      <td>2024-08-07</td>\n",
       "      <td>LinkedIn</td>\n",
       "      <td>NaN</td>\n",
       "      <td>Premium</td>\n",
       "      <td>No</td>\n",
       "      <td>25</td>\n",
       "      <td>Male</td>\n",
       "    </tr>\n",
       "    <tr>\n",
       "      <th>199</th>\n",
       "      <td>CUST00199</td>\n",
       "      <td>Kyle Williams</td>\n",
       "      <td>kyle99@inboxmail.net</td>\n",
       "      <td>2024-07-18</td>\n",
       "      <td>YouTube</td>\n",
       "      <td>NaN</td>\n",
       "      <td>PREMIUM</td>\n",
       "      <td>No</td>\n",
       "      <td>21</td>\n",
       "      <td>Male</td>\n",
       "    </tr>\n",
       "    <tr>\n",
       "      <th>205</th>\n",
       "      <td>CUST00205</td>\n",
       "      <td>Brian Hicks</td>\n",
       "      <td>brian5@mailhub.org</td>\n",
       "      <td>2024-07-24</td>\n",
       "      <td>Facebook</td>\n",
       "      <td>NaN</td>\n",
       "      <td>PRO</td>\n",
       "      <td>Yes</td>\n",
       "      <td>47</td>\n",
       "      <td>Male</td>\n",
       "    </tr>\n",
       "    <tr>\n",
       "      <th>223</th>\n",
       "      <td>CUST00223</td>\n",
       "      <td>Jeffrey Cunningham</td>\n",
       "      <td>jeffrey23@example.com</td>\n",
       "      <td>2024-11-08</td>\n",
       "      <td>Google</td>\n",
       "      <td>NaN</td>\n",
       "      <td>Basic</td>\n",
       "      <td>Yes</td>\n",
       "      <td>25</td>\n",
       "      <td>Non-Binary</td>\n",
       "    </tr>\n",
       "    <tr>\n",
       "      <th>248</th>\n",
       "      <td>CUST00248</td>\n",
       "      <td>Ricky Maldonado</td>\n",
       "      <td>ricky48@example.com</td>\n",
       "      <td>2024-05-09</td>\n",
       "      <td>YouTube</td>\n",
       "      <td>NaN</td>\n",
       "      <td>NaN</td>\n",
       "      <td>No</td>\n",
       "      <td>47</td>\n",
       "      <td>Female</td>\n",
       "    </tr>\n",
       "    <tr>\n",
       "      <th>250</th>\n",
       "      <td>CUST00250</td>\n",
       "      <td>Daniel Shepherd</td>\n",
       "      <td>daniel50@mailhub.org</td>\n",
       "      <td>2024-07-09</td>\n",
       "      <td>Facebook</td>\n",
       "      <td>NaN</td>\n",
       "      <td>PRO</td>\n",
       "      <td>No</td>\n",
       "      <td>40</td>\n",
       "      <td>Non-Binary</td>\n",
       "    </tr>\n",
       "    <tr>\n",
       "      <th>263</th>\n",
       "      <td>CUST00263</td>\n",
       "      <td>Marc Chen</td>\n",
       "      <td>marc63@example.com</td>\n",
       "      <td>2024-09-20</td>\n",
       "      <td>Google</td>\n",
       "      <td>NaN</td>\n",
       "      <td>Pro</td>\n",
       "      <td>Yes</td>\n",
       "      <td>29</td>\n",
       "      <td>Male</td>\n",
       "    </tr>\n",
       "    <tr>\n",
       "      <th>264</th>\n",
       "      <td>CUST00264</td>\n",
       "      <td>Robert Johnson</td>\n",
       "      <td>robert64@mailhub.org</td>\n",
       "      <td>2024-09-21</td>\n",
       "      <td>YouTube</td>\n",
       "      <td>NaN</td>\n",
       "      <td>Pro</td>\n",
       "      <td>Yes</td>\n",
       "      <td>25</td>\n",
       "      <td>Female</td>\n",
       "    </tr>\n",
       "    <tr>\n",
       "      <th>267</th>\n",
       "      <td>CUST00267</td>\n",
       "      <td>Mary Estrada</td>\n",
       "      <td>mary67@inboxmail.net</td>\n",
       "      <td>2024-09-24</td>\n",
       "      <td>Referral</td>\n",
       "      <td>NaN</td>\n",
       "      <td>PREMIUM</td>\n",
       "      <td>No</td>\n",
       "      <td>29</td>\n",
       "      <td>Non-Binary</td>\n",
       "    </tr>\n",
       "    <tr>\n",
       "      <th>270</th>\n",
       "      <td>CUST00270</td>\n",
       "      <td>Brian Hernandez</td>\n",
       "      <td>NaN</td>\n",
       "      <td>2024-09-27</td>\n",
       "      <td>YouTube</td>\n",
       "      <td>NaN</td>\n",
       "      <td>Premium</td>\n",
       "      <td>No</td>\n",
       "      <td>25</td>\n",
       "      <td>Other</td>\n",
       "    </tr>\n",
       "    <tr>\n",
       "      <th>274</th>\n",
       "      <td>CUST00274</td>\n",
       "      <td>Stanley Rodriguez</td>\n",
       "      <td>stanley74@inboxmail.net</td>\n",
       "      <td>2024-01-10</td>\n",
       "      <td>Facebook</td>\n",
       "      <td>NaN</td>\n",
       "      <td>PRO</td>\n",
       "      <td>No</td>\n",
       "      <td>29</td>\n",
       "      <td>Female</td>\n",
       "    </tr>\n",
       "    <tr>\n",
       "      <th>275</th>\n",
       "      <td>CUST00275</td>\n",
       "      <td>Emma Campbell</td>\n",
       "      <td>emma75@mailhub.org</td>\n",
       "      <td>2024-02-10</td>\n",
       "      <td>Facebook</td>\n",
       "      <td>NaN</td>\n",
       "      <td>PREMIUM</td>\n",
       "      <td>No</td>\n",
       "      <td>34</td>\n",
       "      <td>Other</td>\n",
       "    </tr>\n",
       "    <tr>\n",
       "      <th>276</th>\n",
       "      <td>CUST00276</td>\n",
       "      <td>Jason Williams</td>\n",
       "      <td>jason76@inboxmail.net</td>\n",
       "      <td>2024-03-10</td>\n",
       "      <td>Facebook</td>\n",
       "      <td>NaN</td>\n",
       "      <td>Pro</td>\n",
       "      <td>Yes</td>\n",
       "      <td>29</td>\n",
       "      <td>Non-Binary</td>\n",
       "    </tr>\n",
       "  </tbody>\n",
       "</table>\n",
       "</div>"
      ],
      "text/plain": [
       "    customer_id                name                      email signup_date  \\\n",
       "0     CUST00000       Joshua Bryant                        NaN  2024-02-02   \n",
       "3     CUST00003     Zachary Sanchez       zachary3@mailhub.org  2024-04-01   \n",
       "37    CUST00037         Thomas Ruiz     thomas37@inboxmail.net  2024-07-02   \n",
       "41    CUST00041  Christopher Zuniga  christopher41@mailhub.org  2024-11-02   \n",
       "48    CUST00048        Angel Chavez        angel48@example.com  2024-02-18   \n",
       "51    CUST00051     Bradley Solomon      bradley51@example.com  2024-02-21   \n",
       "58    CUST00058        James Martin        james58@mailhub.org  2024-02-28   \n",
       "59    CUST00059         Michael Lee    michael59@inboxmail.net  2024-02-29   \n",
       "62    CUST00062     Michael Alvarez      michael62@example.com  2024-03-03   \n",
       "65    CUST00065      Richard Hudson      richard65@mailhub.org  2024-06-03   \n",
       "77    CUST00077        Meagan Beard       meagan77@mailhub.org  2024-03-18   \n",
       "88    CUST00088         Paula Bruce      paula88@inboxmail.net  2024-03-29   \n",
       "95    CUST00095      Jennifer Silva     jennifer95@example.com  2024-05-04   \n",
       "99    CUST00099   Chelsey Rodriguez                        NaN  2024-09-04   \n",
       "121   CUST00121      Carolyn Castro      carolyn21@mailhub.org  2024-01-05   \n",
       "169   CUST00169         Emily Smith      emily69@inboxmail.net  2024-06-18   \n",
       "184   CUST00184       Richard Jones      richard84@mailhub.org  2024-03-07   \n",
       "189   CUST00189     Hannah Anderson                        NaN  2024-08-07   \n",
       "199   CUST00199       Kyle Williams       kyle99@inboxmail.net  2024-07-18   \n",
       "205   CUST00205         Brian Hicks         brian5@mailhub.org  2024-07-24   \n",
       "223   CUST00223  Jeffrey Cunningham      jeffrey23@example.com  2024-11-08   \n",
       "248   CUST00248     Ricky Maldonado        ricky48@example.com  2024-05-09   \n",
       "250   CUST00250     Daniel Shepherd       daniel50@mailhub.org  2024-07-09   \n",
       "263   CUST00263           Marc Chen         marc63@example.com  2024-09-20   \n",
       "264   CUST00264      Robert Johnson       robert64@mailhub.org  2024-09-21   \n",
       "267   CUST00267        Mary Estrada       mary67@inboxmail.net  2024-09-24   \n",
       "270   CUST00270     Brian Hernandez                        NaN  2024-09-27   \n",
       "274   CUST00274   Stanley Rodriguez    stanley74@inboxmail.net  2024-01-10   \n",
       "275   CUST00275       Emma Campbell         emma75@mailhub.org  2024-02-10   \n",
       "276   CUST00276      Jason Williams      jason76@inboxmail.net  2024-03-10   \n",
       "\n",
       "        source region plan_selected marketing_opt_in      age      gender  \n",
       "0    Instagram    NaN         basic               No       34      Female  \n",
       "3      YouTube    NaN           Pro               No       40        Male  \n",
       "37    Facebook    NaN       Premium              Yes      NaN      Female  \n",
       "41      Google    NaN       PREMIUM              Yes       29      Female  \n",
       "48     YouTube    NaN         basic               No       25  Non-Binary  \n",
       "51   Instagram    NaN       Premium               No       25        Male  \n",
       "58    Referral    NaN       Premium              Yes       21       Other  \n",
       "59     YouTube    NaN         basic              Yes       25      Female  \n",
       "62      Google    NaN           PRO              Yes       47  Non-Binary  \n",
       "65    Referral    NaN       Premium               No       60      Female  \n",
       "77    Facebook    NaN         Basic               No       47  Non-Binary  \n",
       "88      Google    NaN         basic              Yes  unknown        Male  \n",
       "95      Google    NaN         basic               No       34       Other  \n",
       "99    Referral    NaN           Pro               No       34      Female  \n",
       "121    YouTube    NaN         Basic              Yes       34        Male  \n",
       "169     Google    NaN           PRO               No       34      Female  \n",
       "184   Referral    NaN       PREMIUM               No       25        Male  \n",
       "189   LinkedIn    NaN       Premium               No       25        Male  \n",
       "199    YouTube    NaN       PREMIUM               No       21        Male  \n",
       "205   Facebook    NaN           PRO              Yes       47        Male  \n",
       "223     Google    NaN         Basic              Yes       25  Non-Binary  \n",
       "248    YouTube    NaN           NaN               No       47      Female  \n",
       "250   Facebook    NaN           PRO               No       40  Non-Binary  \n",
       "263     Google    NaN           Pro              Yes       29        Male  \n",
       "264    YouTube    NaN           Pro              Yes       25      Female  \n",
       "267   Referral    NaN       PREMIUM               No       29  Non-Binary  \n",
       "270    YouTube    NaN       Premium               No       25       Other  \n",
       "274   Facebook    NaN           PRO               No       29      Female  \n",
       "275   Facebook    NaN       PREMIUM               No       34       Other  \n",
       "276   Facebook    NaN           Pro              Yes       29  Non-Binary  "
      ]
     },
     "execution_count": 719,
     "metadata": {},
     "output_type": "execute_result"
    }
   ],
   "source": [
    "df[df['region'].isna()] "
   ]
  },
  {
   "cell_type": "code",
   "execution_count": 721,
   "id": "0498436d-4273-4912-b668-4cde0e1c1c7f",
   "metadata": {},
   "outputs": [],
   "source": [
    "    # replacing missing regions with modal region grouped by gender\n",
    "df['region'] = df['region'].fillna(\n",
    "    df.groupby('gender')['region'].transform(lambda x: x.mode().iloc[0] if not x.mode().empty else None)\n",
    ")"
   ]
  },
  {
   "cell_type": "code",
   "execution_count": 723,
   "id": "9eacb647-4ae5-41f7-a3c1-1fa3546ee624",
   "metadata": {},
   "outputs": [
    {
     "data": {
      "text/plain": [
       "plan_selected\n",
       "Premium        57\n",
       "Pro            53\n",
       "basic          46\n",
       "Basic          46\n",
       "PREMIUM        42\n",
       "PRO            41\n",
       "UnknownPlan     6\n",
       "prem            1\n",
       "Name: count, dtype: int64"
      ]
     },
     "execution_count": 723,
     "metadata": {},
     "output_type": "execute_result"
    }
   ],
   "source": [
    "df['plan_selected'].value_counts()"
   ]
  },
  {
   "cell_type": "code",
   "execution_count": 725,
   "id": "0155f921-415f-4b35-96ee-7347ec228718",
   "metadata": {},
   "outputs": [],
   "source": [
    "# Correcting the formats entered so far on plan_selected\n",
    "df['plan_selected'] = df['plan_selected'].replace({'PRO':'Pro', 'basic':'Basic', 'PREMIUM':'Premium', 'prem':'Premium'})"
   ]
  },
  {
   "cell_type": "code",
   "execution_count": 727,
   "id": "935bf9d1-f4de-4bef-a27d-8b3a1ffdca06",
   "metadata": {},
   "outputs": [
    {
     "data": {
      "text/plain": [
       "plan_selected\n",
       "Premium        100\n",
       "Pro             94\n",
       "Basic           92\n",
       "UnknownPlan      6\n",
       "Name: count, dtype: int64"
      ]
     },
     "execution_count": 727,
     "metadata": {},
     "output_type": "execute_result"
    }
   ],
   "source": [
    "df['plan_selected'].value_counts()"
   ]
  },
  {
   "cell_type": "code",
   "execution_count": 729,
   "id": "dc6f92dc-b248-47a2-8551-272f5ae92fff",
   "metadata": {},
   "outputs": [],
   "source": [
    "   # replacing missing plans with modal plans grouped by gender\n",
    "df['plan_selected'] = df['plan_selected'].fillna(\n",
    "    df.groupby('gender')['plan_selected'].transform(lambda x: x.mode().iloc[0] if not x.mode().empty else None)\n",
    ")"
   ]
  },
  {
   "cell_type": "code",
   "execution_count": 731,
   "id": "24d22a7d-889f-426f-b7f8-c9b7307cd38a",
   "metadata": {},
   "outputs": [
    {
     "data": {
      "text/plain": [
       "marketing_opt_in\n",
       "No     156\n",
       "Yes    133\n",
       "Nil      1\n",
       "Name: count, dtype: int64"
      ]
     },
     "execution_count": 731,
     "metadata": {},
     "output_type": "execute_result"
    }
   ],
   "source": [
    "df['marketing_opt_in'].value_counts()"
   ]
  },
  {
   "cell_type": "code",
   "execution_count": 733,
   "id": "baddb155-d2da-4de3-859b-437ff21c726f",
   "metadata": {},
   "outputs": [],
   "source": [
    "# Correcting the formats entered so far on marketing_opt_in\n",
    "df['marketing_opt_in'] = df['marketing_opt_in'].replace({'Nil':'No'})"
   ]
  },
  {
   "cell_type": "code",
   "execution_count": 735,
   "id": "a9c6ec95-abe3-4187-88d7-6eb6ddae5e7f",
   "metadata": {},
   "outputs": [],
   "source": [
    "# replacing missing marketing_opt_in with modal marketing_opt_in grouped by gender\n",
    "df['marketing_opt_in'] = df['marketing_opt_in'].fillna(\n",
    "    df.groupby('gender')['marketing_opt_in'].transform(lambda x: x.mode().iloc[0] if not x.mode().empty else None)\n",
    ")"
   ]
  },
  {
   "cell_type": "code",
   "execution_count": 737,
   "id": "ce915dae-0f53-4f27-ba76-6bce19d60442",
   "metadata": {},
   "outputs": [
    {
     "data": {
      "text/plain": [
       "customer_id          0\n",
       "name                 9\n",
       "email               34\n",
       "signup_date          0\n",
       "source               0\n",
       "region               0\n",
       "plan_selected        0\n",
       "marketing_opt_in     0\n",
       "age                 12\n",
       "gender               0\n",
       "dtype: int64"
      ]
     },
     "execution_count": 737,
     "metadata": {},
     "output_type": "execute_result"
    }
   ],
   "source": [
    "df.isnull().sum()"
   ]
  },
  {
   "cell_type": "raw",
   "id": "8c8d31e5-7b39-47a4-b583-9e65f83464f3",
   "metadata": {},
   "source": []
  },
  {
   "cell_type": "code",
   "execution_count": 739,
   "id": "b559d841-691a-4818-9575-06ac81cb5ba0",
   "metadata": {},
   "outputs": [],
   "source": [
    "# j) age: 12 missing values"
   ]
  },
  {
   "cell_type": "code",
   "execution_count": 741,
   "id": "961f32bd-c103-4b6a-a373-84647caf46ea",
   "metadata": {},
   "outputs": [],
   "source": [
    "# removing invalid entries in age\n",
    "df['age'] = pd.to_numeric(df['age'], errors='coerce')"
   ]
  },
  {
   "cell_type": "code",
   "execution_count": 743,
   "id": "fc54d64c-ea35-49c8-ace5-3365ab936fc8",
   "metadata": {},
   "outputs": [
    {
     "data": {
      "text/plain": [
       "customer_id          0\n",
       "name                 9\n",
       "email               34\n",
       "signup_date          0\n",
       "source               0\n",
       "region               0\n",
       "plan_selected        0\n",
       "marketing_opt_in     0\n",
       "age                 19\n",
       "gender               0\n",
       "dtype: int64"
      ]
     },
     "execution_count": 743,
     "metadata": {},
     "output_type": "execute_result"
    }
   ],
   "source": [
    "df.isnull().sum()   # after correcting removing invalid ages it is now 19 missing values (ie 7 invalid entries converted to missing values)"
   ]
  },
  {
   "cell_type": "code",
   "execution_count": 745,
   "id": "9d8c5f63-c801-4af8-9a85-8aa895b51a51",
   "metadata": {},
   "outputs": [
    {
     "data": {
      "text/html": [
       "<div>\n",
       "<style scoped>\n",
       "    .dataframe tbody tr th:only-of-type {\n",
       "        vertical-align: middle;\n",
       "    }\n",
       "\n",
       "    .dataframe tbody tr th {\n",
       "        vertical-align: top;\n",
       "    }\n",
       "\n",
       "    .dataframe thead th {\n",
       "        text-align: right;\n",
       "    }\n",
       "</style>\n",
       "<table border=\"1\" class=\"dataframe\">\n",
       "  <thead>\n",
       "    <tr style=\"text-align: right;\">\n",
       "      <th></th>\n",
       "      <th>customer_id</th>\n",
       "      <th>name</th>\n",
       "      <th>email</th>\n",
       "      <th>signup_date</th>\n",
       "      <th>source</th>\n",
       "      <th>region</th>\n",
       "      <th>plan_selected</th>\n",
       "      <th>marketing_opt_in</th>\n",
       "      <th>age</th>\n",
       "      <th>gender</th>\n",
       "    </tr>\n",
       "  </thead>\n",
       "  <tbody>\n",
       "    <tr>\n",
       "      <th>21</th>\n",
       "      <td>CUST00021</td>\n",
       "      <td>Suzanne Jones</td>\n",
       "      <td>suzanne21@mailhub.org</td>\n",
       "      <td>2024-01-22</td>\n",
       "      <td>Instagram</td>\n",
       "      <td>Central</td>\n",
       "      <td>Basic</td>\n",
       "      <td>No</td>\n",
       "      <td>NaN</td>\n",
       "      <td>Female</td>\n",
       "    </tr>\n",
       "    <tr>\n",
       "      <th>23</th>\n",
       "      <td>CUST00023</td>\n",
       "      <td>Dawn Cook</td>\n",
       "      <td>dawn23@example.com</td>\n",
       "      <td>2024-01-24</td>\n",
       "      <td>Instagram</td>\n",
       "      <td>Central</td>\n",
       "      <td>Basic</td>\n",
       "      <td>Yes</td>\n",
       "      <td>NaN</td>\n",
       "      <td>Other</td>\n",
       "    </tr>\n",
       "    <tr>\n",
       "      <th>33</th>\n",
       "      <td>CUST00033</td>\n",
       "      <td>Jodi Curry</td>\n",
       "      <td>jodi33mailhub.org</td>\n",
       "      <td>2024-03-02</td>\n",
       "      <td>YouTube</td>\n",
       "      <td>East</td>\n",
       "      <td>Basic</td>\n",
       "      <td>Yes</td>\n",
       "      <td>NaN</td>\n",
       "      <td>Male</td>\n",
       "    </tr>\n",
       "    <tr>\n",
       "      <th>37</th>\n",
       "      <td>CUST00037</td>\n",
       "      <td>Thomas Ruiz</td>\n",
       "      <td>thomas37@inboxmail.net</td>\n",
       "      <td>2024-07-02</td>\n",
       "      <td>Facebook</td>\n",
       "      <td>North</td>\n",
       "      <td>Premium</td>\n",
       "      <td>Yes</td>\n",
       "      <td>NaN</td>\n",
       "      <td>Female</td>\n",
       "    </tr>\n",
       "    <tr>\n",
       "      <th>40</th>\n",
       "      <td>CUST00040</td>\n",
       "      <td>Mary Phillips</td>\n",
       "      <td>mary40@mailhub.org</td>\n",
       "      <td>2024-10-02</td>\n",
       "      <td>Instagram</td>\n",
       "      <td>East</td>\n",
       "      <td>Premium</td>\n",
       "      <td>No</td>\n",
       "      <td>NaN</td>\n",
       "      <td>Male</td>\n",
       "    </tr>\n",
       "    <tr>\n",
       "      <th>53</th>\n",
       "      <td>CUST00053</td>\n",
       "      <td>Rebecca Lopez</td>\n",
       "      <td>rebecca53@inboxmail.net</td>\n",
       "      <td>2024-02-23</td>\n",
       "      <td>Referral</td>\n",
       "      <td>North</td>\n",
       "      <td>Pro</td>\n",
       "      <td>Yes</td>\n",
       "      <td>NaN</td>\n",
       "      <td>Female</td>\n",
       "    </tr>\n",
       "    <tr>\n",
       "      <th>56</th>\n",
       "      <td>CUST00056</td>\n",
       "      <td>Brian Hardy</td>\n",
       "      <td>brian56@mailhub.org</td>\n",
       "      <td>2024-02-26</td>\n",
       "      <td>Referral</td>\n",
       "      <td>East</td>\n",
       "      <td>Pro</td>\n",
       "      <td>Yes</td>\n",
       "      <td>NaN</td>\n",
       "      <td>Female</td>\n",
       "    </tr>\n",
       "    <tr>\n",
       "      <th>76</th>\n",
       "      <td>CUST00076</td>\n",
       "      <td>Dalton Herrera</td>\n",
       "      <td>dalton76@example.com</td>\n",
       "      <td>2024-03-17</td>\n",
       "      <td>Instagram</td>\n",
       "      <td>East</td>\n",
       "      <td>Basic</td>\n",
       "      <td>No</td>\n",
       "      <td>NaN</td>\n",
       "      <td>Other</td>\n",
       "    </tr>\n",
       "    <tr>\n",
       "      <th>88</th>\n",
       "      <td>CUST00088</td>\n",
       "      <td>Paula Bruce</td>\n",
       "      <td>paula88@inboxmail.net</td>\n",
       "      <td>2024-03-29</td>\n",
       "      <td>Google</td>\n",
       "      <td>North</td>\n",
       "      <td>Basic</td>\n",
       "      <td>Yes</td>\n",
       "      <td>NaN</td>\n",
       "      <td>Male</td>\n",
       "    </tr>\n",
       "    <tr>\n",
       "      <th>108</th>\n",
       "      <td>CUST00108</td>\n",
       "      <td>Allison Hoffman</td>\n",
       "      <td>NaN</td>\n",
       "      <td>2024-04-18</td>\n",
       "      <td>LinkedIn</td>\n",
       "      <td>North</td>\n",
       "      <td>Basic</td>\n",
       "      <td>No</td>\n",
       "      <td>NaN</td>\n",
       "      <td>Male</td>\n",
       "    </tr>\n",
       "    <tr>\n",
       "      <th>116</th>\n",
       "      <td>CUST00116</td>\n",
       "      <td>Daniel Leonard</td>\n",
       "      <td>daniel16@inboxmail.net</td>\n",
       "      <td>2024-04-26</td>\n",
       "      <td>Instagram</td>\n",
       "      <td>East</td>\n",
       "      <td>Pro</td>\n",
       "      <td>Yes</td>\n",
       "      <td>NaN</td>\n",
       "      <td>Male</td>\n",
       "    </tr>\n",
       "    <tr>\n",
       "      <th>126</th>\n",
       "      <td>CUST00126</td>\n",
       "      <td>Ronald Robinson</td>\n",
       "      <td>NaN</td>\n",
       "      <td>2024-06-05</td>\n",
       "      <td>Instagram</td>\n",
       "      <td>North</td>\n",
       "      <td>Basic</td>\n",
       "      <td>No</td>\n",
       "      <td>NaN</td>\n",
       "      <td>Male</td>\n",
       "    </tr>\n",
       "    <tr>\n",
       "      <th>129</th>\n",
       "      <td>CUST00129</td>\n",
       "      <td>Ashley Francis</td>\n",
       "      <td>ashley29@example.com</td>\n",
       "      <td>2024-09-05</td>\n",
       "      <td>Referral</td>\n",
       "      <td>West</td>\n",
       "      <td>Pro</td>\n",
       "      <td>No</td>\n",
       "      <td>NaN</td>\n",
       "      <td>Male</td>\n",
       "    </tr>\n",
       "    <tr>\n",
       "      <th>142</th>\n",
       "      <td>CUST00142</td>\n",
       "      <td>Barbara Vincent</td>\n",
       "      <td>barbara42@mailhub.org</td>\n",
       "      <td>2024-05-22</td>\n",
       "      <td>??</td>\n",
       "      <td>West</td>\n",
       "      <td>Premium</td>\n",
       "      <td>No</td>\n",
       "      <td>NaN</td>\n",
       "      <td>Male</td>\n",
       "    </tr>\n",
       "    <tr>\n",
       "      <th>227</th>\n",
       "      <td>CUST00227</td>\n",
       "      <td>Katie Collins</td>\n",
       "      <td>katie27@example.com</td>\n",
       "      <td>2024-08-15</td>\n",
       "      <td>Referral</td>\n",
       "      <td>South</td>\n",
       "      <td>Basic</td>\n",
       "      <td>No</td>\n",
       "      <td>NaN</td>\n",
       "      <td>Female</td>\n",
       "    </tr>\n",
       "    <tr>\n",
       "      <th>232</th>\n",
       "      <td>CUST00232</td>\n",
       "      <td>Jeff Watson</td>\n",
       "      <td>jeff32@example.com</td>\n",
       "      <td>2024-08-20</td>\n",
       "      <td>Instagram</td>\n",
       "      <td>South</td>\n",
       "      <td>Pro</td>\n",
       "      <td>Yes</td>\n",
       "      <td>NaN</td>\n",
       "      <td>Other</td>\n",
       "    </tr>\n",
       "    <tr>\n",
       "      <th>241</th>\n",
       "      <td>CUST00241</td>\n",
       "      <td>Drew Leon II</td>\n",
       "      <td>drew41@mailhub.org</td>\n",
       "      <td>2024-08-29</td>\n",
       "      <td>Facebook</td>\n",
       "      <td>Central</td>\n",
       "      <td>Premium</td>\n",
       "      <td>Yes</td>\n",
       "      <td>NaN</td>\n",
       "      <td>Other</td>\n",
       "    </tr>\n",
       "    <tr>\n",
       "      <th>245</th>\n",
       "      <td>CUST00245</td>\n",
       "      <td>Amanda Leonard</td>\n",
       "      <td>amanda45@example.com</td>\n",
       "      <td>2024-02-09</td>\n",
       "      <td>Referral</td>\n",
       "      <td>East</td>\n",
       "      <td>Basic</td>\n",
       "      <td>Yes</td>\n",
       "      <td>NaN</td>\n",
       "      <td>Non-Binary</td>\n",
       "    </tr>\n",
       "    <tr>\n",
       "      <th>289</th>\n",
       "      <td>CUST00289</td>\n",
       "      <td>Daniel Dunn</td>\n",
       "      <td>daniel89@example.com</td>\n",
       "      <td>2024-10-16</td>\n",
       "      <td>Referral</td>\n",
       "      <td>West</td>\n",
       "      <td>Basic</td>\n",
       "      <td>No</td>\n",
       "      <td>NaN</td>\n",
       "      <td>Male</td>\n",
       "    </tr>\n",
       "  </tbody>\n",
       "</table>\n",
       "</div>"
      ],
      "text/plain": [
       "    customer_id             name                    email signup_date  \\\n",
       "21    CUST00021    Suzanne Jones    suzanne21@mailhub.org  2024-01-22   \n",
       "23    CUST00023        Dawn Cook       dawn23@example.com  2024-01-24   \n",
       "33    CUST00033       Jodi Curry        jodi33mailhub.org  2024-03-02   \n",
       "37    CUST00037      Thomas Ruiz   thomas37@inboxmail.net  2024-07-02   \n",
       "40    CUST00040    Mary Phillips       mary40@mailhub.org  2024-10-02   \n",
       "53    CUST00053    Rebecca Lopez  rebecca53@inboxmail.net  2024-02-23   \n",
       "56    CUST00056      Brian Hardy      brian56@mailhub.org  2024-02-26   \n",
       "76    CUST00076   Dalton Herrera     dalton76@example.com  2024-03-17   \n",
       "88    CUST00088      Paula Bruce    paula88@inboxmail.net  2024-03-29   \n",
       "108   CUST00108  Allison Hoffman                      NaN  2024-04-18   \n",
       "116   CUST00116   Daniel Leonard   daniel16@inboxmail.net  2024-04-26   \n",
       "126   CUST00126  Ronald Robinson                      NaN  2024-06-05   \n",
       "129   CUST00129   Ashley Francis     ashley29@example.com  2024-09-05   \n",
       "142   CUST00142  Barbara Vincent    barbara42@mailhub.org  2024-05-22   \n",
       "227   CUST00227    Katie Collins      katie27@example.com  2024-08-15   \n",
       "232   CUST00232      Jeff Watson       jeff32@example.com  2024-08-20   \n",
       "241   CUST00241     Drew Leon II       drew41@mailhub.org  2024-08-29   \n",
       "245   CUST00245   Amanda Leonard     amanda45@example.com  2024-02-09   \n",
       "289   CUST00289      Daniel Dunn     daniel89@example.com  2024-10-16   \n",
       "\n",
       "        source   region plan_selected marketing_opt_in  age      gender  \n",
       "21   Instagram  Central         Basic               No  NaN      Female  \n",
       "23   Instagram  Central         Basic              Yes  NaN       Other  \n",
       "33     YouTube     East         Basic              Yes  NaN        Male  \n",
       "37    Facebook    North       Premium              Yes  NaN      Female  \n",
       "40   Instagram     East       Premium               No  NaN        Male  \n",
       "53    Referral    North           Pro              Yes  NaN      Female  \n",
       "56    Referral     East           Pro              Yes  NaN      Female  \n",
       "76   Instagram     East         Basic               No  NaN       Other  \n",
       "88      Google    North         Basic              Yes  NaN        Male  \n",
       "108   LinkedIn    North         Basic               No  NaN        Male  \n",
       "116  Instagram     East           Pro              Yes  NaN        Male  \n",
       "126  Instagram    North         Basic               No  NaN        Male  \n",
       "129   Referral     West           Pro               No  NaN        Male  \n",
       "142         ??     West       Premium               No  NaN        Male  \n",
       "227   Referral    South         Basic               No  NaN      Female  \n",
       "232  Instagram    South           Pro              Yes  NaN       Other  \n",
       "241   Facebook  Central       Premium              Yes  NaN       Other  \n",
       "245   Referral     East         Basic              Yes  NaN  Non-Binary  \n",
       "289   Referral     West         Basic               No  NaN        Male  "
      ]
     },
     "execution_count": 745,
     "metadata": {},
     "output_type": "execute_result"
    }
   ],
   "source": [
    "df[df['age'].isna()]"
   ]
  },
  {
   "cell_type": "code",
   "execution_count": 747,
   "id": "832409d4-c6d6-4d0e-b09b-25b84c0933fe",
   "metadata": {},
   "outputs": [
    {
     "name": "stdout",
     "output_type": "stream",
     "text": [
      "                 mean        std  median   min    max\n",
      "gender                                               \n",
      "Female      37.787234  21.017592    34.0  21.0  206.0\n",
      "Male        34.340659  10.333570    34.0  21.0   60.0\n",
      "Non-Binary  35.487805  10.881457    34.0  21.0   60.0\n",
      "Other       36.763636  11.275939    34.0  21.0   60.0\n"
     ]
    }
   ],
   "source": [
    "# replacing missing values of age \n",
    "\n",
    "agesummary = df.groupby('gender')['age'].agg(\n",
    "    mean = 'mean',\n",
    "    std = 'std',\n",
    "    median = 'median',\n",
    "    min = 'min',\n",
    "    max = 'max'\n",
    ")\n",
    "print (agesummary)  # there is an impractical value of 206 on age, I will replace this with the median"
   ]
  },
  {
   "cell_type": "code",
   "execution_count": 749,
   "id": "b45b0ec8-1958-433d-b1b4-5f73c8fd6afb",
   "metadata": {},
   "outputs": [
    {
     "data": {
      "image/png": "[encoded data removed]",
      "text/plain": [
       "<Figure size 640x480 with 1 Axes>"
      ]
     },
     "metadata": {},
     "output_type": "display_data"
    }
   ],
   "source": [
    "# Visual representation of age\n",
    "import seaborn as sns\n",
    "import matplotlib.pyplot as plt\n",
    "\n",
    "# Draw box plot for 'age grouped by gender'\n",
    "sns.boxplot(x='gender', y='age', data=df)\n",
    "plt.title(\"Box Plot of Age Grouped by Gender\")\n",
    "plt.xlabel(\"Gender\")\n",
    "plt.ylabel(\"Age\")\n",
    "plt.show()"
   ]
  },
  {
   "cell_type": "code",
   "execution_count": 750,
   "id": "ee897337-f554-4d62-9281-0b455194966d",
   "metadata": {},
   "outputs": [
    {
     "data": {
      "image/png": "[encoded data removed]",
      "text/plain": [
       "<Figure size 640x480 with 1 Axes>"
      ]
     },
     "metadata": {},
     "output_type": "display_data"
    }
   ],
   "source": [
    "# Plot smooth density curves of age grouped by gender\n",
    "\n",
    "sns.kdeplot(data=df, x='age', hue='gender', fill=True, common_norm=False, alpha=0.4)\n",
    "plt.title(\"Smoothed Age Distribution by Gender\")\n",
    "plt.xlabel(\"Age\")\n",
    "plt.ylabel(\"Density\")\n",
    "plt.show()"
   ]
  },
  {
   "cell_type": "code",
   "execution_count": 752,
   "id": "32cc2d01-d6ec-49dc-bfa1-8cc20bbeb378",
   "metadata": {},
   "outputs": [],
   "source": [
    "# from the box plot and the density curves, we can see that age is not normaly distributed in each of the different groups of gender\n",
    "# Therefore all the missing values on age shall be replaced with the median age which is 34\n",
    "\n",
    "import numpy as np\n",
    "\n",
    "# Replace NaN and 206 with 34\n",
    "df['age'] = df['age'].replace(206, 34)\n",
    "df['age'] = df['age'].fillna(34)"
   ]
  },
  {
   "cell_type": "code",
   "execution_count": 755,
   "id": "64def486-b41c-45b0-9799-a3d5a6267795",
   "metadata": {},
   "outputs": [
    {
     "data": {
      "text/plain": [
       "customer_id          0\n",
       "name                 9\n",
       "email               34\n",
       "signup_date          0\n",
       "source               0\n",
       "region               0\n",
       "plan_selected        0\n",
       "marketing_opt_in     0\n",
       "age                  0\n",
       "gender               0\n",
       "dtype: int64"
      ]
     },
     "execution_count": 755,
     "metadata": {},
     "output_type": "execute_result"
    }
   ],
   "source": [
    "df.isnull().sum()"
   ]
  },
  {
   "cell_type": "raw",
   "id": "a1452e44-4c32-479d-adfd-335d59f88cad",
   "metadata": {},
   "source": []
  },
  {
   "cell_type": "raw",
   "id": "37b5bd9c-6d0d-4162-929a-c8e29d7f847a",
   "metadata": {},
   "source": [
    "CHECkING TO SEE THAT ALL ENTRIES OF ALL VARIABLES ARE CONSISTENT"
   ]
  },
  {
   "cell_type": "code",
   "execution_count": 761,
   "id": "8758687f-b86e-44d2-bbc6-be9ea94151ee",
   "metadata": {},
   "outputs": [
    {
     "data": {
      "text/plain": [
       "source\n",
       "YouTube      58\n",
       "Instagram    54\n",
       "Google       52\n",
       "Referral     51\n",
       "Facebook     40\n",
       "LinkedIn     39\n",
       "??            6\n",
       "Name: count, dtype: int64"
      ]
     },
     "execution_count": 761,
     "metadata": {},
     "output_type": "execute_result"
    }
   ],
   "source": [
    "df['source'].value_counts()  # There are 6 entries which are invalid (captured as ??), I will replace them with the modal source grouped by gender "
   ]
  },
  {
   "cell_type": "code",
   "execution_count": 763,
   "id": "e64c53d2-da8d-4db0-8a56-fb0cb5ce7971",
   "metadata": {},
   "outputs": [],
   "source": [
    "# Replacing '??' with NaN so they are treated as missing values\n",
    "df['source'] = df['source'].replace('??', np.nan)\n",
    "\n",
    "# Fill NaN with gender-specific mode\n",
    "df['source'] = df['source'].fillna(\n",
    "    df.groupby('gender')['source'].transform(lambda x: x.mode().iloc[0] if not x.mode().empty else None)\n",
    ")"
   ]
  },
  {
   "cell_type": "code",
   "execution_count": 765,
   "id": "92927c11-08a2-4996-bff7-84c471650f19",
   "metadata": {},
   "outputs": [
    {
     "data": {
      "text/plain": [
       "region\n",
       "North      88\n",
       "East       68\n",
       "South      59\n",
       "West       46\n",
       "Central    39\n",
       "Name: count, dtype: int64"
      ]
     },
     "execution_count": 765,
     "metadata": {},
     "output_type": "execute_result"
    }
   ],
   "source": [
    "df['region'].value_counts()"
   ]
  },
  {
   "cell_type": "code",
   "execution_count": 767,
   "id": "017def46-fe7b-4504-a539-4f86e743ce17",
   "metadata": {},
   "outputs": [
    {
     "data": {
      "text/plain": [
       "plan_selected\n",
       "Premium        100\n",
       "Basic           97\n",
       "Pro             97\n",
       "UnknownPlan      6\n",
       "Name: count, dtype: int64"
      ]
     },
     "execution_count": 767,
     "metadata": {},
     "output_type": "execute_result"
    }
   ],
   "source": [
    "df['plan_selected'].value_counts()"
   ]
  },
  {
   "cell_type": "code",
   "execution_count": 769,
   "id": "c3b6c757-d168-4de7-8112-f83394f2d4e2",
   "metadata": {},
   "outputs": [
    {
     "data": {
      "text/plain": [
       "marketing_opt_in\n",
       "No     167\n",
       "Yes    133\n",
       "Name: count, dtype: int64"
      ]
     },
     "execution_count": 769,
     "metadata": {},
     "output_type": "execute_result"
    }
   ],
   "source": [
    "df['marketing_opt_in'].value_counts()"
   ]
  },
  {
   "cell_type": "code",
   "execution_count": 771,
   "id": "43c34f44-f458-4762-b03b-6eff2e1aead0",
   "metadata": {},
   "outputs": [
    {
     "data": {
      "text/plain": [
       "gender\n",
       "Male          100\n",
       "Female         99\n",
       "Other          59\n",
       "Non-Binary     42\n",
       "Name: count, dtype: int64"
      ]
     },
     "execution_count": 771,
     "metadata": {},
     "output_type": "execute_result"
    }
   ],
   "source": [
    "df['gender'].value_counts()"
   ]
  },
  {
   "cell_type": "raw",
   "id": "d986f4a7-13a7-4505-afa4-23c2222eb8a8",
   "metadata": {},
   "source": []
  },
  {
   "cell_type": "raw",
   "id": "7f8d06e4-b65b-4384-a4f2-5dfbe69353d0",
   "metadata": {},
   "source": [
    "REMOVING DUPLICATES"
   ]
  },
  {
   "cell_type": "code",
   "execution_count": 773,
   "id": "37db6e43-4a02-4d63-aade-8a1d72a7f78a",
   "metadata": {},
   "outputs": [
    {
     "name": "stdout",
     "output_type": "stream",
     "text": [
      "Empty DataFrame\n",
      "Columns: [customer_id, name, email, signup_date, source, region, plan_selected, marketing_opt_in, age, gender]\n",
      "Index: []\n"
     ]
    }
   ],
   "source": [
    "duplicate_ids = df[df.duplicated(subset='customer_id', keep=False)]\n",
    "print(duplicate_ids)    # There are no duplicates"
   ]
  },
  {
   "cell_type": "raw",
   "id": "907ea7a5-a86b-4a58-a94d-5ed4527ce575",
   "metadata": {},
   "source": []
  },
  {
   "cell_type": "raw",
   "id": "d30ca68d-a638-420c-8c3c-2bb79ca00242",
   "metadata": {},
   "source": [
    "ANALYSIS (EDA)"
   ]
  },
  {
   "cell_type": "code",
   "execution_count": 859,
   "id": "1632da4f-4a31-4592-8610-bdee9b7f162c",
   "metadata": {
    "scrolled": true
   },
   "outputs": [
    {
     "name": "stdout",
     "output_type": "stream",
     "text": [
      "Mean weekly signups: 6.0\n",
      "Median weekly signups: 7.0\n",
      "[5.0, 7.0]\n",
      "signup_date\n",
      "2024-01-07     6\n",
      "2024-01-14     5\n",
      "2024-01-21     7\n",
      "2024-01-28     7\n",
      "2024-02-04    14\n",
      "2024-02-11     6\n",
      "2024-02-18     6\n",
      "2024-02-25     7\n",
      "2024-03-03     7\n",
      "2024-03-10     7\n",
      "2024-03-17     5\n",
      "2024-03-24     6\n",
      "2024-03-31     6\n",
      "2024-04-07     7\n",
      "2024-04-14     5\n",
      "2024-04-21     7\n",
      "2024-04-28     7\n",
      "2024-05-05     6\n",
      "2024-05-12     4\n",
      "2024-05-19     7\n",
      "2024-05-26     7\n",
      "2024-06-02     7\n",
      "2024-06-09     7\n",
      "2024-06-16     5\n",
      "2024-06-23     7\n",
      "2024-06-30     7\n",
      "2024-07-07     7\n",
      "2024-07-14     5\n",
      "2024-07-21     6\n",
      "2024-07-28     7\n",
      "2024-08-04     7\n",
      "2024-08-11     5\n",
      "2024-08-18     6\n",
      "2024-08-25     7\n",
      "2024-09-01     7\n",
      "2024-09-08     7\n",
      "2024-09-15     5\n",
      "2024-09-22     7\n",
      "2024-09-29     7\n",
      "2024-10-06     7\n",
      "2024-10-13     5\n",
      "2024-10-20     7\n",
      "2024-10-27     6\n",
      "2024-11-03     3\n",
      "2024-11-10     7\n",
      "2024-11-17     0\n",
      "2024-11-24     0\n",
      "2024-12-01     1\n",
      "2024-12-08     7\n",
      "2024-12-15     2\n",
      "Freq: W-SUN, dtype: int64\n"
     ]
    }
   ],
   "source": [
    "# weekly signsups grouped by signup date (NB: I already made signup_date a dateformat\n",
    "\n",
    "# Group by week (week ending Sunday) and count the rows which represent sign ups\n",
    "weekly_customers = df.set_index('signup_date').resample('W').size()\n",
    "\n",
    "# Calculate mean and median\n",
    "mean_signups = weekly_customers.mean()\n",
    "median_signups = weekly_customers.median()\n",
    "q1= weekly_customers.quantile(0.25)\n",
    "q3= weekly_customers.quantile(0.75)\n",
    "\n",
    "print(f\"Mean weekly signups: {mean_signups}\")\n",
    "print(f\"Median weekly signups: {median_signups}\")\n",
    "print([q1, q3])\n",
    "print(weekly_customers)\n"
   ]
  },
  {
   "cell_type": "code",
   "execution_count": 775,
   "id": "0d711f4a-e5b7-4450-8503-b28bc9eeb7e7",
   "metadata": {},
   "outputs": [
    {
     "name": "stdout",
     "output_type": "stream",
     "text": [
      "Percent signup by source source\n",
      "YouTube      19.3\n",
      "Instagram    19.0\n",
      "Google       18.3\n",
      "Referral     17.0\n",
      "Facebook     13.3\n",
      "LinkedIn     13.0\n",
      "Name: proportion, dtype: float64\n",
      "Counts of signups by source source\n",
      "YouTube      58\n",
      "Instagram    57\n",
      "Google       55\n",
      "Referral     51\n",
      "Facebook     40\n",
      "LinkedIn     39\n",
      "Name: count, dtype: int64\n"
     ]
    }
   ],
   "source": [
    "# a) sign_ups by source\n",
    "source_signsups = df['source'].value_counts()\n",
    "source_signsups_percent = df['source'].value_counts(normalize = True)*100\n",
    "print ('Percent signup by source', round(source_signsups_percent, 1))\n",
    "print('Counts of signups by source', source_signsups)"
   ]
  },
  {
   "cell_type": "code",
   "execution_count": 777,
   "id": "cac1a1b5-8754-41db-b022-8bb99d33224a",
   "metadata": {},
   "outputs": [
    {
     "name": "stdout",
     "output_type": "stream",
     "text": [
      "Percent signup by region region\n",
      "North      29.3\n",
      "East       22.7\n",
      "South      19.7\n",
      "West       15.3\n",
      "Central    13.0\n",
      "Name: proportion, dtype: float64\n",
      "Counts of signups by region region\n",
      "North      88\n",
      "East       68\n",
      "South      59\n",
      "West       46\n",
      "Central    39\n",
      "Name: count, dtype: int64\n"
     ]
    }
   ],
   "source": [
    "# b) sign_ups by region\n",
    "region_signsups = df['region'].value_counts()\n",
    "region_signsups_percent = df['region'].value_counts(normalize = True)*100\n",
    "print ('Percent signup by region', round(region_signsups_percent, 1))\n",
    "print('Counts of signups by region', region_signsups)"
   ]
  },
  {
   "cell_type": "code",
   "execution_count": 779,
   "id": "24acbedf-1311-4b41-bcd8-2e1e5ca6b1f4",
   "metadata": {},
   "outputs": [
    {
     "name": "stdout",
     "output_type": "stream",
     "text": [
      "Percent signup by plan_selected plan_selected\n",
      "Premium        33.3\n",
      "Basic          32.3\n",
      "Pro            32.3\n",
      "UnknownPlan     2.0\n",
      "Name: proportion, dtype: float64\n",
      "Counts of signups by plan_selected plan_selected\n",
      "Premium        100\n",
      "Basic           97\n",
      "Pro             97\n",
      "UnknownPlan      6\n",
      "Name: count, dtype: int64\n"
     ]
    }
   ],
   "source": [
    "# c) sign_ups by plan_selected\n",
    "plan_selected_signsups = df['plan_selected'].value_counts()\n",
    "plan_selected_signsups_percent = df['plan_selected'].value_counts(normalize = True)*100\n",
    "print ('Percent signup by plan_selected', round(plan_selected_signsups_percent, 1))\n",
    "print('Counts of signups by plan_selected', plan_selected_signsups)"
   ]
  },
  {
   "cell_type": "code",
   "execution_count": 781,
   "id": "c08d3bef-8ef0-4150-bfc7-d3788bdea7bd",
   "metadata": {},
   "outputs": [
    {
     "name": "stdout",
     "output_type": "stream",
     "text": [
      "marketing_opt_in\n",
      "No     167\n",
      "Yes    133\n",
      "Name: count, dtype: int64\n",
      "marketing_opt_in\n",
      "No     55.7\n",
      "Yes    44.3\n",
      "Name: proportion, dtype: float64\n"
     ]
    }
   ],
   "source": [
    "# d) market_opt ins by gender\n",
    "marketing_opts_count = df['marketing_opt_in'].value_counts()\n",
    "marketing_opts_percent =round(df['marketing_opt_in'].value_counts(normalize=True)*100, 1)\n",
    "print(marketing_opts_count)\n",
    "print(marketing_opts_percent)"
   ]
  },
  {
   "cell_type": "code",
   "execution_count": 783,
   "id": "02c78827-c9a1-4664-a846-4feacb33cf96",
   "metadata": {},
   "outputs": [
    {
     "name": "stdout",
     "output_type": "stream",
     "text": [
      "gender      marketing_opt_in\n",
      "Female      No                  50\n",
      "            Yes                 49\n",
      "Male        No                  59\n",
      "            Yes                 41\n",
      "Non-Binary  No                  23\n",
      "            Yes                 19\n",
      "Other       No                  35\n",
      "            Yes                 24\n",
      "Name: count, dtype: int64\n",
      "gender      marketing_opt_in\n",
      "Female      No                  50.5\n",
      "            Yes                 49.5\n",
      "Male        No                  59.0\n",
      "            Yes                 41.0\n",
      "Non-Binary  No                  54.8\n",
      "            Yes                 45.2\n",
      "Other       No                  59.3\n",
      "            Yes                 40.7\n",
      "Name: proportion, dtype: float64\n"
     ]
    }
   ],
   "source": [
    "marketing_opts_count2 = df.groupby('gender')['marketing_opt_in'].value_counts()\n",
    "marketing_opts_percent2 = round(df.groupby('gender')['marketing_opt_in'].value_counts(normalize=True)*100, 1)\n",
    "print(marketing_opts_count2)\n",
    "print(marketing_opts_percent2)"
   ]
  },
  {
   "cell_type": "code",
   "execution_count": 785,
   "id": "88bd1cca-2bf4-47bb-8b2e-0065d13e2aad",
   "metadata": {},
   "outputs": [
    {
     "data": {
      "image/png": "[encoded data removed]",
      "text/plain": [
       "<Figure size 300x300 with 1 Axes>"
      ]
     },
     "metadata": {},
     "output_type": "display_data"
    },
    {
     "data": {
      "image/png": "[encoded data removed]",
      "text/plain": [
       "<Figure size 300x300 with 1 Axes>"
      ]
     },
     "metadata": {},
     "output_type": "display_data"
    },
    {
     "data": {
      "image/png": "[encoded data removed]",
      "text/plain": [
       "<Figure size 300x300 with 1 Axes>"
      ]
     },
     "metadata": {},
     "output_type": "display_data"
    },
    {
     "data": {
      "image/png": "[encoded data removed]",
      "text/plain": [
       "<Figure size 300x300 with 1 Axes>"
      ]
     },
     "metadata": {},
     "output_type": "display_data"
    }
   ],
   "source": [
    "# visualisation\n",
    "# Group data\n",
    "grouped = df.groupby(['gender', 'marketing_opt_in']).size().unstack(fill_value=0)\n",
    "\n",
    "# Plot a pie chart for each gender\n",
    "for gender in grouped.index:\n",
    "    plt.figure(figsize=(3, 3))\n",
    "    grouped.loc[gender].plot.pie(autopct='%1.1f%%', startangle=90)\n",
    "    plt.title(f'Market Opt Ins Distribution for {gender}')\n",
    "    plt.ylabel('')  # Hide y-label for pie\n",
    "    plt.tight_layout()\n",
    "    plt.show()"
   ]
  },
  {
   "cell_type": "code",
   "execution_count": 787,
   "id": "1ed0ee1f-2a0a-4b85-9e2a-fcfda4242941",
   "metadata": {},
   "outputs": [
    {
     "name": "stdout",
     "output_type": "stream",
     "text": [
      "marketing_opt_in  gender    \n",
      "No                Male          59\n",
      "                  Female        50\n",
      "                  Other         35\n",
      "                  Non-Binary    23\n",
      "Yes               Female        49\n",
      "                  Male          41\n",
      "                  Other         24\n",
      "                  Non-Binary    19\n",
      "Name: count, dtype: int64\n",
      "marketing_opt_in  gender    \n",
      "No                Male          35.3\n",
      "                  Female        29.9\n",
      "                  Other         21.0\n",
      "                  Non-Binary    13.8\n",
      "Yes               Female        36.8\n",
      "                  Male          30.8\n",
      "                  Other         18.0\n",
      "                  Non-Binary    14.3\n",
      "Name: proportion, dtype: float64\n"
     ]
    }
   ],
   "source": [
    "marketing_opts_count3 = df.groupby('marketing_opt_in')['gender'].value_counts()\n",
    "marketing_opts_percent3 = round(df.groupby('marketing_opt_in')['gender'].value_counts(normalize=True)*100, 1)\n",
    "print(marketing_opts_count3)\n",
    "print(marketing_opts_percent3)"
   ]
  },
  {
   "cell_type": "code",
   "execution_count": 789,
   "id": "ddb2f049-6de3-4d5b-9a26-b6045d6ece9f",
   "metadata": {},
   "outputs": [
    {
     "name": "stdout",
     "output_type": "stream",
     "text": [
      "mean      35.4\n",
      "median    34.0\n",
      "Name: age, dtype: float64\n"
     ]
    }
   ],
   "source": [
    "# d) age summary statistics\n",
    "\n",
    "age_summary = df['age'].agg(\n",
    "    mean = 'mean',\n",
    "    median = 'median'\n",
    ")\n",
    "\n",
    "print(round(age_summary, 1))"
   ]
  },
  {
   "cell_type": "code",
   "execution_count": 791,
   "id": "e653a640-b5f3-4dbc-b85a-da2c09b83136",
   "metadata": {},
   "outputs": [
    {
     "name": "stdout",
     "output_type": "stream",
     "text": [
      "[21.0, 60.0]\n"
     ]
    }
   ],
   "source": [
    "max_age = df['age'].min()\n",
    "min_age = df['age'].max()\n",
    "print ([max_age, min_age])"
   ]
  },
  {
   "cell_type": "code",
   "execution_count": 793,
   "id": "6eb22765-5e22-4547-8636-039f35c3d9dc",
   "metadata": {},
   "outputs": [
    {
     "name": "stdout",
     "output_type": "stream",
     "text": [
      "signup_date\n",
      "2024-01-07     6\n",
      "2024-01-14     5\n",
      "2024-01-21     7\n",
      "2024-01-28     7\n",
      "2024-02-04    14\n",
      "2024-02-11     6\n",
      "2024-02-18     6\n",
      "2024-02-25     7\n",
      "2024-03-03     7\n",
      "2024-03-10     7\n",
      "2024-03-17     5\n",
      "2024-03-24     6\n",
      "2024-03-31     6\n",
      "2024-04-07     7\n",
      "2024-04-14     5\n",
      "2024-04-21     7\n",
      "2024-04-28     7\n",
      "2024-05-05     6\n",
      "2024-05-12     4\n",
      "2024-05-19     7\n",
      "2024-05-26     7\n",
      "2024-06-02     7\n",
      "2024-06-09     7\n",
      "2024-06-16     5\n",
      "2024-06-23     7\n",
      "2024-06-30     7\n",
      "2024-07-07     7\n",
      "2024-07-14     5\n",
      "2024-07-21     6\n",
      "2024-07-28     7\n",
      "2024-08-04     7\n",
      "2024-08-11     5\n",
      "2024-08-18     6\n",
      "2024-08-25     7\n",
      "2024-09-01     7\n",
      "2024-09-08     7\n",
      "2024-09-15     5\n",
      "2024-09-22     7\n",
      "2024-09-29     7\n",
      "2024-10-06     7\n",
      "2024-10-13     5\n",
      "2024-10-20     7\n",
      "2024-10-27     6\n",
      "2024-11-03     3\n",
      "2024-11-10     7\n",
      "2024-11-17     0\n",
      "2024-11-24     0\n",
      "2024-12-01     1\n",
      "2024-12-08     7\n",
      "2024-12-15     2\n",
      "Freq: W-SUN, dtype: int64\n"
     ]
    }
   ],
   "source": [
    "# e) signsups per week\n",
    "\n",
    "weekly_counts = df.set_index('signup_date').resample('W').size()\n",
    "\n",
    "print(weekly_counts)"
   ]
  },
  {
   "cell_type": "raw",
   "id": "85362f5f-45ea-4f0a-8517-ed1ae978be38",
   "metadata": {},
   "source": []
  },
  {
   "cell_type": "raw",
   "id": "ad822a48-4459-451c-ae94-0b5ed1992762",
   "metadata": {},
   "source": [
    "Which acquisition source brought in the most users last month?"
   ]
  },
  {
   "cell_type": "code",
   "execution_count": 795,
   "id": "a116c8ef-c63f-47db-8f8f-4ca4bd3c7c47",
   "metadata": {},
   "outputs": [
    {
     "name": "stdout",
     "output_type": "stream",
     "text": [
      "2024 12\n"
     ]
    }
   ],
   "source": [
    "# checking to see which years and months are available in the data set\n",
    "latest_date = df['signup_date'].max()\n",
    "latest_year = latest_date.year\n",
    "latest_month = latest_date.month\n",
    "\n",
    "# Display the result\n",
    "print(latest_year, latest_month)   # we can see that the latest month was December (12) in 2024, therefore i will just look for sales in 2024-12"
   ]
  },
  {
   "cell_type": "code",
   "execution_count": 797,
   "id": "b64f39b0-5748-4baa-ba96-7d64d7baa38a",
   "metadata": {},
   "outputs": [
    {
     "name": "stdout",
     "output_type": "stream",
     "text": [
      "Total December 2024 sales: 10\n",
      "customer counts from each source for December 2024: source\n",
      "Instagram    4\n",
      "Referral     2\n",
      "YouTube      2\n",
      "Facebook     1\n",
      "LinkedIn     1\n",
      "Name: count, dtype: int64\n",
      "Percentage from each source: source\n",
      "Instagram    40.0\n",
      "Referral     20.0\n",
      "YouTube      20.0\n",
      "Facebook     10.0\n",
      "LinkedIn     10.0\n",
      "Name: proportion, dtype: float64\n"
     ]
    }
   ],
   "source": [
    "# counting customers acquired from different sources in december of 2024\n",
    "\n",
    "# Extracting all into 'YYYY-MM' format\n",
    "df['year_month'] = df['signup_date'].dt.to_period('M').astype(str)\n",
    "\n",
    "# Filter for December 2024\n",
    "filtered = df[df['year_month'] == '2024-12']\n",
    "\n",
    "# Count of each source\n",
    "Dec_Total_sales = len(filtered)\n",
    "source_counts = filtered['source'].value_counts()\n",
    "source_counts_percent = round(filtered['source'].value_counts(normalize=True)*100, 1)\n",
    "\n",
    "print('Total December 2024 sales:', Dec_Total_sales)\n",
    "print('customer counts from each source for December 2024:', source_counts)\n",
    "print ('Percentage from each source:', source_counts_percent)"
   ]
  },
  {
   "cell_type": "code",
   "execution_count": 799,
   "id": "2bed773d-abfa-4551-8fdc-b012cc44f64f",
   "metadata": {},
   "outputs": [
    {
     "data": {
      "image/png": "[encoded data removed]",
      "text/plain": [
       "<Figure size 500x500 with 1 Axes>"
      ]
     },
     "metadata": {},
     "output_type": "display_data"
    }
   ],
   "source": [
    "# pie chart for customer sources in Dec 2024\n",
    "# Plot pie chart\n",
    "plt.figure(figsize=(5, 5))\n",
    "plt.pie(source_counts, labels=source_counts.index, autopct='%1.1f%%', startangle=140)\n",
    "plt.title('')\n",
    "plt.axis('equal')  # Ensures the pie is circular\n",
    "plt.show()"
   ]
  },
  {
   "cell_type": "code",
   "execution_count": 805,
   "id": "90ab8d70-8f92-4667-9c74-635e38b30ad3",
   "metadata": {},
   "outputs": [],
   "source": [
    "# Are older users more or less likely to opt in to marketing? \n",
    "\n",
    "import scipy.stats as stats"
   ]
  },
  {
   "cell_type": "code",
   "execution_count": 821,
   "id": "88eba550-83b5-4ae9-8a81-c204e5d81f44",
   "metadata": {},
   "outputs": [
    {
     "data": {
      "image/png": "[encoded data removed]",
      "text/plain": [
       "<Figure size 640x480 with 1 Axes>"
      ]
     },
     "metadata": {},
     "output_type": "display_data"
    }
   ],
   "source": [
    "# Draw box plot for 'age grouped by marketing_opt_in'\n",
    "sns.boxplot(x='marketing_opt_in', y='age', data=df)\n",
    "plt.title('')\n",
    "plt.xlabel(\"marketing_opt_in\")\n",
    "plt.ylabel(\"Age\")\n",
    "plt.show()"
   ]
  },
  {
   "cell_type": "code",
   "execution_count": 823,
   "id": "921e491c-49e1-41c4-bf22-fb108e28555e",
   "metadata": {},
   "outputs": [
    {
     "data": {
      "image/png": "[encoded data removed]",
      "text/plain": [
       "<Figure size 640x480 with 1 Axes>"
      ]
     },
     "metadata": {},
     "output_type": "display_data"
    }
   ],
   "source": [
    "# Plot smooth density curves of age grouped by marketing_opt_in\n",
    "\n",
    "sns.kdeplot(data=df, x='age', hue='marketing_opt_in', fill=True, common_norm=False, alpha=0.4)\n",
    "plt.title('')\n",
    "plt.xlabel(\"Age\")\n",
    "plt.ylabel(\"marketing_opt_in\")\n",
    "plt.show()"
   ]
  },
  {
   "cell_type": "code",
   "execution_count": 825,
   "id": "e346e813-a633-4662-8fae-8b744d02f4da",
   "metadata": {},
   "outputs": [
    {
     "name": "stdout",
     "output_type": "stream",
     "text": [
      "Mann-Whitney U test: U-statistic = 10529.000, p-value = 0.435\n"
     ]
    }
   ],
   "source": [
    "# from the box plots plotted earlier and the density curves for normal distribution, we saw that age is not normally distributed\n",
    "# Therefore the best test for this relationship is a mannwhitney U test\n",
    "\n",
    "from scipy.stats import mannwhitneyu\n",
    "\n",
    "#Split age into two groups based on marketing_opt_in \n",
    "\n",
    "group1 = df[df['marketing_opt_in'] == df['marketing_opt_in'].unique()[0]]['age'] \n",
    "group2 = df[df['marketing_opt_in'] == df['marketing_opt_in'].unique()[1]]['age'] \n",
    "\n",
    "# Perform Mann-Whitney U test \n",
    "u_stat, p_value = mannwhitneyu(group1, group2, alternative='two-sided') \n",
    "\n",
    " \n",
    "print(f\"Mann-Whitney U test: U-statistic = {u_stat:.3f}, p-value = {p_value:.3f}\")"
   ]
  },
  {
   "cell_type": "code",
   "execution_count": 907,
   "id": "06006b9e-0120-429d-b2c1-8bafd4030711",
   "metadata": {},
   "outputs": [
    {
     "name": "stderr",
     "output_type": "stream",
     "text": [
      "C:\\Users\\Julius\\AppData\\Local\\Temp\\ipykernel_4100\\2887031481.py:15: SettingWithCopyWarning: \n",
      "A value is trying to be set on a copy of a slice from a DataFrame.\n",
      "Try using .loc[row_indexer,col_indexer] = value instead\n",
      "\n",
      "See the caveats in the documentation: https://pandas.pydata.org/pandas-docs/stable/user_guide/indexing.html#returning-a-view-versus-a-copy\n",
      "  marketting_in_customers['age_group'] = pd.cut(marketting_in_customers['age'], bins=age_group, labels=age_label, right=False)\n"
     ]
    },
    {
     "name": "stdout",
     "output_type": "stream",
     "text": [
      "age_group\n",
      "20-29    52\n",
      "30-39    28\n",
      "40-49    35\n",
      "50-59    12\n",
      "60-69     6\n",
      "dtype: int64\n"
     ]
    },
    {
     "data": {
      "image/png": "[encoded data removed]",
      "text/plain": [
       "<Figure size 500x500 with 1 Axes>"
      ]
     },
     "metadata": {},
     "output_type": "display_data"
    }
   ],
   "source": [
    "#Descriptive\n",
    "# Filter for users who opted for marketing material\n",
    "marketting_in_customers = df[df['marketing_opt_in'] == 'Yes']\n",
    "\n",
    "# Define age categorises with width 10\n",
    "\n",
    "age_group = range(0, int(df['age'].max()) + 11, 10) \n",
    "\n",
    "# Adjust to include max age \n",
    "\n",
    "age_label = [f'{i}-{i+9}' for i in range(0, int(df['age'].max()) + 1, 10)] \n",
    "\n",
    "# Create age group column \n",
    "\n",
    "marketting_in_customers['age_group'] = pd.cut(marketting_in_customers['age'], bins=age_group, labels=age_label, right=False) \n",
    "\n",
    "# Count premium_users by age group \n",
    "\n",
    "marketting_in_customers_counts = marketting_in_customers.groupby('age_group', observed=True).size() \n",
    "\n",
    "# Display the result \n",
    "print(marketting_in_customers_counts) \n",
    "\n",
    "# Plot pie chart\n",
    "plt.figure(figsize=(5, 5))\n",
    "plt.pie(marketting_in_customers_counts, labels=marketting_in_customers_counts.index, autopct='%1.1f%%', startangle=140)\n",
    "plt.title('')\n",
    "plt.axis('equal')  \n",
    "plt.show()"
   ]
  },
  {
   "cell_type": "raw",
   "id": "21deba28-f2bd-4730-8c0b-fae036862264",
   "metadata": {},
   "source": [
    "Which plan is most commonly selected, and by which age group?"
   ]
  },
  {
   "cell_type": "code",
   "execution_count": 827,
   "id": "31f52c12-6861-48da-8ae7-a9331184c1a8",
   "metadata": {},
   "outputs": [
    {
     "data": {
      "text/plain": [
       "plan_selected\n",
       "Premium        100\n",
       "Basic           97\n",
       "Pro             97\n",
       "UnknownPlan      6\n",
       "Name: count, dtype: int64"
      ]
     },
     "execution_count": 827,
     "metadata": {},
     "output_type": "execute_result"
    }
   ],
   "source": [
    "df['plan_selected'].value_counts()"
   ]
  },
  {
   "cell_type": "code",
   "execution_count": 847,
   "id": "e95329d2-d035-446a-8bd4-daadb8ec4fb8",
   "metadata": {},
   "outputs": [
    {
     "name": "stdout",
     "output_type": "stream",
     "text": [
      "age_group\n",
      "20-29    38\n",
      "30-39    20\n",
      "40-49    32\n",
      "50-59     6\n",
      "60-69     4\n",
      "dtype: int64\n"
     ]
    },
    {
     "name": "stderr",
     "output_type": "stream",
     "text": [
      "C:\\Users\\Julius\\AppData\\Local\\Temp\\ipykernel_4100\\1580567629.py:16: SettingWithCopyWarning: \n",
      "A value is trying to be set on a copy of a slice from a DataFrame.\n",
      "Try using .loc[row_indexer,col_indexer] = value instead\n",
      "\n",
      "See the caveats in the documentation: https://pandas.pydata.org/pandas-docs/stable/user_guide/indexing.html#returning-a-view-versus-a-copy\n",
      "  premium_users['age_group'] = pd.cut(premium_users['age'], bins=age_bins, labels=age_labels, right=False)\n"
     ]
    },
    {
     "data": {
      "image/png": "[encoded data removed]",
      "text/plain": [
       "<Figure size 500x500 with 1 Axes>"
      ]
     },
     "metadata": {},
     "output_type": "display_data"
    }
   ],
   "source": [
    "# Premium as the most users with 100 so i will only analyse that, I will create age groups of width 10\n",
    "\n",
    "# Filter for premium users \n",
    "premium_users = df[df['plan_selected'] == 'Premium'] \n",
    "\n",
    "# Define age categorises with width 10\n",
    "\n",
    "age_bins = range(0, int(df['age'].max()) + 11, 10) \n",
    "\n",
    "# Adjust to include max age \n",
    "\n",
    "age_labels = [f'{i}-{i+9}' for i in range(0, int(df['age'].max()) + 1, 10)] \n",
    "\n",
    "# Create age group column \n",
    "\n",
    "premium_users['age_group'] = pd.cut(premium_users['age'], bins=age_bins, labels=age_labels, right=False) \n",
    "\n",
    "# Count premium_users by age group \n",
    "\n",
    "premium_users_counts = premium_users.groupby('age_group', observed=True).size() \n",
    "\n",
    "# Display the result \n",
    "print(premium_users_counts) \n",
    "\n",
    "# Plot pie chart\n",
    "plt.figure(figsize=(5, 5))\n",
    "plt.pie(premium_users_counts, labels=premium_users_counts.index, autopct='%1.1f%%', startangle=140)\n",
    "plt.title('')\n",
    "plt.axis('equal')  # Ensures the pie is circular\n",
    "plt.show()"
   ]
  },
  {
   "cell_type": "raw",
   "id": "ce522296-edbd-4f66-b085-0255cc19653f",
   "metadata": {},
   "source": [
    "Which plan’s users are most likely to contact support?"
   ]
  },
  {
   "cell_type": "code",
   "execution_count": 851,
   "id": "7b88707b-2df8-45e7-b83d-c10f4a856278",
   "metadata": {},
   "outputs": [
    {
     "data": {
      "text/plain": [
       "customer_id                 object\n",
       "name                        object\n",
       "email                       object\n",
       "signup_date         datetime64[ns]\n",
       "source                      object\n",
       "region                      object\n",
       "plan_selected               object\n",
       "marketing_opt_in            object\n",
       "age                        float64\n",
       "gender                      object\n",
       "year_month                  object\n",
       "dtype: object"
      ]
     },
     "execution_count": 851,
     "metadata": {},
     "output_type": "execute_result"
    }
   ],
   "source": [
    "df.dtypes"
   ]
  },
  {
   "cell_type": "raw",
   "id": "48cf007c-7c78-4cd3-af57-f5a32f8e6e7a",
   "metadata": {},
   "source": []
  },
  {
   "cell_type": "raw",
   "id": "ae608e83-1bae-4716-bb6e-0c80d4a20c8c",
   "metadata": {},
   "source": [
    "Loading support ticket dataset"
   ]
  },
  {
   "cell_type": "code",
   "execution_count": 871,
   "id": "b703514b-7048-4765-a0b1-bd05683152ed",
   "metadata": {},
   "outputs": [],
   "source": [
    "df_support = pd.read_csv(r'C:\\Users\\Julius\\Desktop\\Training and Interns\\Uptrail intern\\Week 1 project\\support_tickets.csv')"
   ]
  },
  {
   "cell_type": "code",
   "execution_count": 879,
   "id": "dd1314e5-4eb7-4120-ae85-bb7622612c57",
   "metadata": {},
   "outputs": [
    {
     "name": "stdout",
     "output_type": "stream",
     "text": [
      "Number of rows in support dateset: 123\n",
      "Number of coulmns in support dateset: 5\n"
     ]
    }
   ],
   "source": [
    "row_count2 = df_support.shape[0]\n",
    "column_count2 = df_support.shape[1]\n",
    "print ('Number of rows in support dateset:' ,row_count2)\n",
    "print ('Number of coulmns in support dateset:', column_count2)  # only 123 sign-ups contacted support"
   ]
  },
  {
   "cell_type": "code",
   "execution_count": 883,
   "id": "e6de9e5b-8640-42b3-a682-05fa08090b26",
   "metadata": {},
   "outputs": [],
   "source": [
    "# Joining the data sets,\n",
    "# An inner join is appropriate so that i only see customers who are both in the sign_up and support data sets\n",
    "joined_data = pd.merge(df, df_support, on='customer_id', how='inner')"
   ]
  },
  {
   "cell_type": "code",
   "execution_count": 885,
   "id": "b468c1d5-d6c7-407d-abfe-c55c83514524",
   "metadata": {},
   "outputs": [
    {
     "name": "stdout",
     "output_type": "stream",
     "text": [
      "Number of rows in merged dateset: 123\n",
      "Number of coulmns in merged dateset: 15\n"
     ]
    }
   ],
   "source": [
    "row_count3 = joined_data.shape[0]\n",
    "column_count3 = joined_data.shape[1]\n",
    "print ('Number of rows in merged dateset:' ,row_count3)\n",
    "print ('Number of coulmns in merged dateset:', column_count3)"
   ]
  },
  {
   "cell_type": "code",
   "execution_count": 893,
   "id": "4184165f-c617-4a16-84f1-b7abad801454",
   "metadata": {},
   "outputs": [
    {
     "name": "stdout",
     "output_type": "stream",
     "text": [
      "plan_selected\n",
      "Pro            51\n",
      "Basic          42\n",
      "Premium        26\n",
      "UnknownPlan     4\n",
      "Name: count, dtype: int64\n",
      "plan_selected\n",
      "Pro            41.5\n",
      "Basic          34.1\n",
      "Premium        21.1\n",
      "UnknownPlan     3.3\n",
      "Name: proportion, dtype: float64\n"
     ]
    }
   ],
   "source": [
    "# Which plan’s users are most likely to contact support? \n",
    "\n",
    "count_plan = joined_data['plan_selected'].value_counts()\n",
    "count_plan_percent = round(joined_data['plan_selected'].value_counts(normalize=True)*100, 1)\n",
    "print (count_plan)\n",
    "print (count_plan_percent)"
   ]
  },
  {
   "cell_type": "code",
   "execution_count": 895,
   "id": "3ea1472a-a680-4f50-ab64-36788410aeee",
   "metadata": {},
   "outputs": [
    {
     "data": {
      "image/png": "[encoded data removed]",
      "text/plain": [
       "<Figure size 500x500 with 1 Axes>"
      ]
     },
     "metadata": {},
     "output_type": "display_data"
    }
   ],
   "source": [
    "# Plot pie chart\n",
    "plt.figure(figsize=(5, 5))\n",
    "plt.pie(count_plan, labels=count_plan.index, autopct='%1.1f%%', startangle=140)\n",
    "plt.title('')\n",
    "plt.axis('equal')  # Ensures the pie is circular\n",
    "plt.show()"
   ]
  },
  {
   "cell_type": "code",
   "execution_count": 897,
   "id": "077eb414-2e74-486d-b101-1d52bf0c5d5b",
   "metadata": {},
   "outputs": [
    {
     "name": "stdout",
     "output_type": "stream",
     "text": [
      "region\n",
      "East       33\n",
      "West       27\n",
      "North      26\n",
      "South      19\n",
      "Central    18\n",
      "Name: count, dtype: int64\n",
      "region\n",
      "East       26.8\n",
      "West       22.0\n",
      "North      21.1\n",
      "South      15.4\n",
      "Central    14.6\n",
      "Name: proportion, dtype: float64\n"
     ]
    }
   ],
   "source": [
    "# support contacts by region\n",
    "count_region = joined_data['region'].value_counts()\n",
    "count_region_percent = round(joined_data['region'].value_counts(normalize=True)*100, 1)\n",
    "print (count_region)\n",
    "print (count_region_percent)"
   ]
  },
  {
   "cell_type": "code",
   "execution_count": 899,
   "id": "d741cdbb-bd0e-4511-ab1c-6e41bd766e21",
   "metadata": {},
   "outputs": [
    {
     "data": {
      "image/png": "[encoded data removed]",
      "text/plain": [
       "<Figure size 500x500 with 1 Axes>"
      ]
     },
     "metadata": {},
     "output_type": "display_data"
    }
   ],
   "source": [
    "# Plot pie chart\n",
    "plt.figure(figsize=(5, 5))\n",
    "plt.pie(count_region, labels=count_region.index, autopct='%1.1f%%', startangle=140)\n",
    "plt.title('')\n",
    "plt.axis('equal')  # Ensures the pie is circular\n",
    "plt.show()"
   ]
  },
  {
   "cell_type": "raw",
   "id": "61896f71-35b9-4046-93b7-992f744160df",
   "metadata": {},
   "source": [
    "END"
   ]
  }
 ],
 "metadata": {
  "kernelspec": {
   "display_name": "Python [conda env:base] *",
   "language": "python",
   "name": "conda-base-py"
  },
  "language_info": {
   "codemirror_mode": {
    "name": "ipython",
    "version": 3
   },
   "file_extension": ".py",
   "mimetype": "text/x-python",
   "name": "python",
   "nbconvert_exporter": "python",
   "pygments_lexer": "ipython3",
   "version": "3.12.7"
  }
 },
 "nbformat": 4,
 "nbformat_minor": 5
}
